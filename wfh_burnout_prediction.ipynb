{
 "cells": [
  {
   "cell_type": "markdown",
   "metadata": {},
   "source": [
    "#### Business Problem\n",
    "On the occasion of World Mental Health Day this October 10th, your organization has stepped in to help its employees plan their weekly calendars appropriately so as to prevent burning out. Your task, as a Machine Learning engineer, is to build a Machine Learning model that predicts burnout rate based on numerous factors such as WFH setup, resources, mental fatigue score, and the like.\n",
    "#### https://www.hackerearth.com/challenges/competitive/hackerearth-machine-learning-challenge-predict-burnout-rate/\n",
    "\n",
    "#### Dataset\n",
    "\n",
    "The dataset consists of parameters such as date of joining, gender, company type, WFH setup availability, designation, resource allocation, and mental fatigue score.\n",
    "\n",
    "The benefits of practicing this problem by using unsupervised Machine Learning techniques are as follows:\n",
    "\n",
    "This challenge encourages you to apply your Machine Learning skills to build models that can predict the burnout rate in employees.\n",
    "This challenge will help you enhance your knowledge of regression. Regression is one of the basic building blocks of Machine Learning.\n",
    "We challenge you to build a model that predicts the burnout rate among employees."
   ]
  },
  {
   "cell_type": "code",
   "execution_count": 1,
   "metadata": {},
   "outputs": [],
   "source": [
    "import pandas as pd\n",
    "import pandasql as ps\n",
    "import numpy as np\n",
    "import seaborn as sns\n",
    "import matplotlib.pyplot as plt\n",
    "import pandas_profiling as pp \n",
    "from pandas_profiling import ProfileReport\n",
    "import scipy.stats as stats\n",
    "\n",
    "from sklearn import metrics\n",
    "from statsmodels.stats.outliers_influence import variance_inflation_factor\n",
    "\n",
    "import statsmodels.api as sm\n",
    "from sklearn import metrics\n",
    "import xgboost\n",
    "from sklearn.model_selection import GridSearchCV\n",
    "\n",
    "from sklearn.model_selection import train_test_split\n",
    "from sklearn.linear_model import LinearRegression\n",
    "from sklearn.ensemble import RandomForestRegressor\n",
    "from sklearn.tree import DecisionTreeRegressor\n",
    "from sklearn.svm import SVC, LinearSVC\n",
    "from sklearn.metrics import mean_squared_error as mse\n",
    "from sklearn.metrics import r2_score as r2\n",
    "from sklearn.decomposition import FactorAnalysis\n",
    "from sklearn import preprocessing\n",
    "import shap \n",
    "import pickle\n",
    "from sklearn.ensemble import GradientBoostingRegressor\n",
    "from sklearn.ensemble import AdaBoostRegressor\n",
    "from sklearn.ensemble import BaggingRegressor\n",
    "from sklearn import tree"
   ]
  },
  {
   "cell_type": "code",
   "execution_count": 2,
   "metadata": {},
   "outputs": [],
   "source": [
    "df = pd.read_csv(\"C:\\\\Data Science\\\\Competitions\\\\Burnout_Rate_Prediction\\\\dataset\\\\train.csv\")"
   ]
  },
  {
   "cell_type": "code",
   "execution_count": 3,
   "metadata": {},
   "outputs": [
    {
     "name": "stderr",
     "output_type": "stream",
     "text": [
      "\n",
      "A value is trying to be set on a copy of a slice from a DataFrame\n",
      "\n",
      "See the caveats in the documentation: https://pandas.pydata.org/pandas-docs/stable/user_guide/indexing.html#returning-a-view-versus-a-copy\n"
     ]
    }
   ],
   "source": [
    "# Store the records with missing 'Burn Rate' in a separate dataframe\n",
    "# We will see how to process this file later\n",
    "df1 = df[df['Burn Rate'].isna()]\n",
    "df1.head(5)\n",
    "# Dropping the Burn Rate before saving file to make it identical to test.csv\n",
    "df1.drop('Burn Rate',axis=1,inplace=True)\n",
    "# Save the file\n",
    "df1.to_csv('C:\\\\Data Science\\\\Competitions\\\\Burnout_Rate_Prediction\\\\dataset\\\\df1.csv', index=False)"
   ]
  },
  {
   "cell_type": "markdown",
   "metadata": {},
   "source": [
    "#### Data Preprocessing"
   ]
  },
  {
   "cell_type": "code",
   "execution_count": 4,
   "metadata": {},
   "outputs": [
    {
     "data": {
      "text/plain": [
       "(22750, 9)"
      ]
     },
     "execution_count": 4,
     "metadata": {},
     "output_type": "execute_result"
    }
   ],
   "source": [
    "df.shape"
   ]
  },
  {
   "cell_type": "code",
   "execution_count": 5,
   "metadata": {},
   "outputs": [
    {
     "data": {
      "text/html": [
       "<div>\n",
       "<style scoped>\n",
       "    .dataframe tbody tr th:only-of-type {\n",
       "        vertical-align: middle;\n",
       "    }\n",
       "\n",
       "    .dataframe tbody tr th {\n",
       "        vertical-align: top;\n",
       "    }\n",
       "\n",
       "    .dataframe thead th {\n",
       "        text-align: right;\n",
       "    }\n",
       "</style>\n",
       "<table border=\"1\" class=\"dataframe\">\n",
       "  <thead>\n",
       "    <tr style=\"text-align: right;\">\n",
       "      <th></th>\n",
       "      <th>Employee ID</th>\n",
       "      <th>Date of Joining</th>\n",
       "      <th>Gender</th>\n",
       "      <th>Company Type</th>\n",
       "      <th>WFH Setup Available</th>\n",
       "      <th>Designation</th>\n",
       "      <th>Resource Allocation</th>\n",
       "      <th>Mental Fatigue Score</th>\n",
       "      <th>Burn Rate</th>\n",
       "    </tr>\n",
       "  </thead>\n",
       "  <tbody>\n",
       "    <tr>\n",
       "      <th>0</th>\n",
       "      <td>fffe32003000360033003200</td>\n",
       "      <td>2008-09-30</td>\n",
       "      <td>Female</td>\n",
       "      <td>Service</td>\n",
       "      <td>No</td>\n",
       "      <td>2.0</td>\n",
       "      <td>3.0</td>\n",
       "      <td>3.8</td>\n",
       "      <td>0.16</td>\n",
       "    </tr>\n",
       "    <tr>\n",
       "      <th>1</th>\n",
       "      <td>fffe3700360033003500</td>\n",
       "      <td>2008-11-30</td>\n",
       "      <td>Male</td>\n",
       "      <td>Service</td>\n",
       "      <td>Yes</td>\n",
       "      <td>1.0</td>\n",
       "      <td>2.0</td>\n",
       "      <td>5.0</td>\n",
       "      <td>0.36</td>\n",
       "    </tr>\n",
       "  </tbody>\n",
       "</table>\n",
       "</div>"
      ],
      "text/plain": [
       "                Employee ID Date of Joining  Gender Company Type  \\\n",
       "0  fffe32003000360033003200      2008-09-30  Female      Service   \n",
       "1      fffe3700360033003500      2008-11-30    Male      Service   \n",
       "\n",
       "  WFH Setup Available  Designation  Resource Allocation  Mental Fatigue Score  \\\n",
       "0                  No          2.0                  3.0                   3.8   \n",
       "1                 Yes          1.0                  2.0                   5.0   \n",
       "\n",
       "   Burn Rate  \n",
       "0       0.16  \n",
       "1       0.36  "
      ]
     },
     "execution_count": 5,
     "metadata": {},
     "output_type": "execute_result"
    }
   ],
   "source": [
    "df.head(2)"
   ]
  },
  {
   "cell_type": "code",
   "execution_count": 6,
   "metadata": {},
   "outputs": [
    {
     "name": "stdout",
     "output_type": "stream",
     "text": [
      "<class 'pandas.core.frame.DataFrame'>\n",
      "RangeIndex: 22750 entries, 0 to 22749\n",
      "Data columns (total 9 columns):\n",
      " #   Column                Non-Null Count  Dtype  \n",
      "---  ------                --------------  -----  \n",
      " 0   Employee ID           22750 non-null  object \n",
      " 1   Date of Joining       22750 non-null  object \n",
      " 2   Gender                22750 non-null  object \n",
      " 3   Company Type          22750 non-null  object \n",
      " 4   WFH Setup Available   22750 non-null  object \n",
      " 5   Designation           22750 non-null  float64\n",
      " 6   Resource Allocation   21369 non-null  float64\n",
      " 7   Mental Fatigue Score  20633 non-null  float64\n",
      " 8   Burn Rate             21626 non-null  float64\n",
      "dtypes: float64(4), object(5)\n",
      "memory usage: 1.6+ MB\n"
     ]
    }
   ],
   "source": [
    "df.info()"
   ]
  },
  {
   "cell_type": "code",
   "execution_count": 7,
   "metadata": {},
   "outputs": [],
   "source": [
    "# Convert to datetime column\n",
    "df[[\"Date of Joining\"]] = df[[\"Date of Joining\"]].apply(pd.to_datetime)"
   ]
  },
  {
   "cell_type": "code",
   "execution_count": 8,
   "metadata": {},
   "outputs": [
    {
     "name": "stderr",
     "output_type": "stream",
     "text": [
      "The pandas.datetime class is deprecated and will be removed from pandas in a future version. Import from datetime instead.\n"
     ]
    }
   ],
   "source": [
    "# Subtract from today and create a new column 'Employment Duration'\n",
    "dt = pd.datetime.now().replace(hour=0, minute=0, second=0, microsecond=0)\n",
    "df['Employment Duration'] = dt - pd.to_datetime( df['Date of Joining'])\n",
    "\n",
    "df.drop('Date of Joining',axis=1,inplace=True)"
   ]
  },
  {
   "cell_type": "code",
   "execution_count": 9,
   "metadata": {},
   "outputs": [],
   "source": [
    "#Extract the number of days from timedelta64 object\n",
    "# Convert to years\n",
    "df['Employment Duration'] = df['Employment Duration'].astype('timedelta64[D]')\n",
    "df['Employment Duration'] = df['Employment Duration']/365"
   ]
  },
  {
   "cell_type": "code",
   "execution_count": 10,
   "metadata": {},
   "outputs": [
    {
     "data": {
      "text/html": [
       "<div>\n",
       "<style scoped>\n",
       "    .dataframe tbody tr th:only-of-type {\n",
       "        vertical-align: middle;\n",
       "    }\n",
       "\n",
       "    .dataframe tbody tr th {\n",
       "        vertical-align: top;\n",
       "    }\n",
       "\n",
       "    .dataframe thead th {\n",
       "        text-align: right;\n",
       "    }\n",
       "</style>\n",
       "<table border=\"1\" class=\"dataframe\">\n",
       "  <thead>\n",
       "    <tr style=\"text-align: right;\">\n",
       "      <th></th>\n",
       "      <th>Employee ID</th>\n",
       "      <th>Gender</th>\n",
       "      <th>Company Type</th>\n",
       "      <th>WFH Setup Available</th>\n",
       "      <th>Designation</th>\n",
       "      <th>Resource Allocation</th>\n",
       "      <th>Mental Fatigue Score</th>\n",
       "      <th>Burn Rate</th>\n",
       "      <th>Employment Duration</th>\n",
       "    </tr>\n",
       "  </thead>\n",
       "  <tbody>\n",
       "    <tr>\n",
       "      <th>0</th>\n",
       "      <td>fffe32003000360033003200</td>\n",
       "      <td>Female</td>\n",
       "      <td>Service</td>\n",
       "      <td>No</td>\n",
       "      <td>2.0</td>\n",
       "      <td>3.0</td>\n",
       "      <td>3.8</td>\n",
       "      <td>0.16</td>\n",
       "      <td>12.098630</td>\n",
       "    </tr>\n",
       "    <tr>\n",
       "      <th>1</th>\n",
       "      <td>fffe3700360033003500</td>\n",
       "      <td>Male</td>\n",
       "      <td>Service</td>\n",
       "      <td>Yes</td>\n",
       "      <td>1.0</td>\n",
       "      <td>2.0</td>\n",
       "      <td>5.0</td>\n",
       "      <td>0.36</td>\n",
       "      <td>11.931507</td>\n",
       "    </tr>\n",
       "  </tbody>\n",
       "</table>\n",
       "</div>"
      ],
      "text/plain": [
       "                Employee ID  Gender Company Type WFH Setup Available  \\\n",
       "0  fffe32003000360033003200  Female      Service                  No   \n",
       "1      fffe3700360033003500    Male      Service                 Yes   \n",
       "\n",
       "   Designation  Resource Allocation  Mental Fatigue Score  Burn Rate  \\\n",
       "0          2.0                  3.0                   3.8       0.16   \n",
       "1          1.0                  2.0                   5.0       0.36   \n",
       "\n",
       "   Employment Duration  \n",
       "0            12.098630  \n",
       "1            11.931507  "
      ]
     },
     "execution_count": 10,
     "metadata": {},
     "output_type": "execute_result"
    }
   ],
   "source": [
    "df.head(2)"
   ]
  },
  {
   "cell_type": "code",
   "execution_count": 11,
   "metadata": {},
   "outputs": [],
   "source": [
    "#Profile report\n",
    "#profile = ProfileReport(df, title='Pandas Profiling Report', explorative=True)\n",
    "#profile.to_file(\"C:\\\\Data Science\\\\Competitions\\\\Burnout_Rate_Prediction\\\\dataset\\\\profile_report.html\")"
   ]
  },
  {
   "cell_type": "code",
   "execution_count": 12,
   "metadata": {},
   "outputs": [],
   "source": [
    "#profile"
   ]
  },
  {
   "cell_type": "code",
   "execution_count": 13,
   "metadata": {},
   "outputs": [],
   "source": [
    "# Employee ID is irrelevant data for linear regression, so dropping the variable.\n",
    "df.drop('Employee ID',axis=1,inplace=True)"
   ]
  },
  {
   "cell_type": "code",
   "execution_count": 14,
   "metadata": {},
   "outputs": [],
   "source": [
    "# Convert into categorical variables\n",
    "\n",
    "df['Designation'] = df['Designation'].astype('category')\n",
    "df['Gender'] = df['Gender'].astype('category')\n",
    "df['Company Type'] = df['Company Type'].astype('category')\n",
    "df['WFH Setup Available'] = df['WFH Setup Available'].astype('category')\n",
    "df['Resource Allocation'] = df['Resource Allocation'].astype('category')"
   ]
  },
  {
   "cell_type": "markdown",
   "metadata": {},
   "source": [
    "#### Exploratory Data Analysis"
   ]
  },
  {
   "cell_type": "code",
   "execution_count": 15,
   "metadata": {},
   "outputs": [
    {
     "name": "stdout",
     "output_type": "stream",
     "text": [
      "<class 'pandas.core.frame.DataFrame'>\n",
      "RangeIndex: 22750 entries, 0 to 22749\n",
      "Data columns (total 8 columns):\n",
      " #   Column                Non-Null Count  Dtype   \n",
      "---  ------                --------------  -----   \n",
      " 0   Gender                22750 non-null  category\n",
      " 1   Company Type          22750 non-null  category\n",
      " 2   WFH Setup Available   22750 non-null  category\n",
      " 3   Designation           22750 non-null  category\n",
      " 4   Resource Allocation   21369 non-null  category\n",
      " 5   Mental Fatigue Score  20633 non-null  float64 \n",
      " 6   Burn Rate             21626 non-null  float64 \n",
      " 7   Employment Duration   22750 non-null  float64 \n",
      "dtypes: category(5), float64(3)\n",
      "memory usage: 645.3 KB\n"
     ]
    },
    {
     "data": {
      "text/plain": [
       "<AxesSubplot:ylabel='Frequency'>"
      ]
     },
     "execution_count": 15,
     "metadata": {},
     "output_type": "execute_result"
    },
    {
     "data": {
      "image/png": "[encoded data removed]",
      "text/plain": [
       "<Figure size 432x288 with 1 Axes>"
      ]
     },
     "metadata": {
      "needs_background": "light"
     },
     "output_type": "display_data"
    }
   ],
   "source": [
    "df.info()\n",
    "df['Burn Rate'].plot.hist(bins=20)"
   ]
  },
  {
   "cell_type": "code",
   "execution_count": 16,
   "metadata": {},
   "outputs": [
    {
     "data": {
      "image/png": "[encoded data removed]",
      "text/plain": [
       "<Figure size 1080x360 with 1 Axes>"
      ]
     },
     "metadata": {
      "needs_background": "light"
     },
     "output_type": "display_data"
    }
   ],
   "source": [
    "plt.subplots(figsize=(15,5))\n",
    "plt.scatter(df['Employment Duration'],df['Burn Rate'])\n",
    "plt.xlabel('Employment Duration')\n",
    "plt.ylabel('Burn Rate')\n",
    "plt.grid()\n",
    "plt.show()"
   ]
  },
  {
   "cell_type": "code",
   "execution_count": 17,
   "metadata": {},
   "outputs": [
    {
     "data": {
      "image/png": "[encoded data removed]",
      "text/plain": [
       "<Figure size 1080x360 with 1 Axes>"
      ]
     },
     "metadata": {
      "needs_background": "light"
     },
     "output_type": "display_data"
    }
   ],
   "source": [
    "plt.subplots(figsize=(15,5))\n",
    "plt.scatter(df['Mental Fatigue Score'],df['Burn Rate'])\n",
    "plt.xlabel('Mental Fatigue Score')\n",
    "plt.ylabel('Burn Rate')\n",
    "plt.grid()\n",
    "plt.show()"
   ]
  },
  {
   "cell_type": "code",
   "execution_count": 18,
   "metadata": {},
   "outputs": [
    {
     "data": {
      "image/png": "[encoded data removed]",
      "text/plain": [
       "<Figure size 1080x360 with 1 Axes>"
      ]
     },
     "metadata": {
      "needs_background": "light"
     },
     "output_type": "display_data"
    }
   ],
   "source": [
    "plt.subplots(figsize=(15,5))\n",
    "plt.scatter(df['Gender'],df['Burn Rate'])\n",
    "plt.xlabel('Gender')\n",
    "plt.ylabel('Burn Rate')\n",
    "plt.grid()\n",
    "plt.show()\n"
   ]
  },
  {
   "cell_type": "code",
   "execution_count": 19,
   "metadata": {},
   "outputs": [
    {
     "data": {
      "image/png": "[encoded data removed]",
      "text/plain": [
       "<Figure size 1080x360 with 1 Axes>"
      ]
     },
     "metadata": {
      "needs_background": "light"
     },
     "output_type": "display_data"
    }
   ],
   "source": [
    "plt.subplots(figsize=(15,5))\n",
    "plt.scatter(df['Company Type'],df['Burn Rate'])\n",
    "plt.xlabel('Company Type')\n",
    "plt.ylabel('Burn Rate')\n",
    "plt.grid()\n",
    "plt.show()"
   ]
  },
  {
   "cell_type": "code",
   "execution_count": 20,
   "metadata": {},
   "outputs": [
    {
     "data": {
      "image/png": "[encoded data removed]",
      "text/plain": [
       "<Figure size 1080x360 with 1 Axes>"
      ]
     },
     "metadata": {
      "needs_background": "light"
     },
     "output_type": "display_data"
    }
   ],
   "source": [
    "plt.subplots(figsize=(15,5))\n",
    "plt.scatter(df['WFH Setup Available'],df['Burn Rate'])\n",
    "plt.xlabel('WFH Setup Available')\n",
    "plt.ylabel('Burn Rate')\n",
    "plt.grid()\n",
    "plt.show()"
   ]
  },
  {
   "cell_type": "code",
   "execution_count": 21,
   "metadata": {},
   "outputs": [
    {
     "data": {
      "image/png": "[encoded data removed]",
      "text/plain": [
       "<Figure size 1080x360 with 1 Axes>"
      ]
     },
     "metadata": {
      "needs_background": "light"
     },
     "output_type": "display_data"
    }
   ],
   "source": [
    "plt.subplots(figsize=(15,5))\n",
    "plt.scatter(df['Designation'],df['Burn Rate'])\n",
    "plt.xlabel('Designation')\n",
    "plt.ylabel('Burn Rate')\n",
    "plt.grid()\n",
    "plt.show()"
   ]
  },
  {
   "cell_type": "markdown",
   "metadata": {},
   "source": [
    "#### Splitting the variables into Categorical & Numeric"
   ]
  },
  {
   "cell_type": "code",
   "execution_count": 22,
   "metadata": {},
   "outputs": [],
   "source": [
    "#****************************** Creating List *****************************************************************************#\n",
    "\n",
    "# Categorical List contains categorical variables\n",
    "cat_var=['Gender','Company Type','WFH Setup Available','Designation','Resource Allocation']\n",
    "\n",
    "\n",
    "# Numerical List= Contains numerical variables..\n",
    "num_var=[]\n",
    "for var in df.columns:\n",
    "    if var not in cat_var:\n",
    "        num_var.append(var)"
   ]
  },
  {
   "cell_type": "code",
   "execution_count": 23,
   "metadata": {},
   "outputs": [
    {
     "data": {
      "text/plain": [
       "['Gender',\n",
       " 'Company Type',\n",
       " 'WFH Setup Available',\n",
       " 'Designation',\n",
       " 'Resource Allocation']"
      ]
     },
     "execution_count": 23,
     "metadata": {},
     "output_type": "execute_result"
    }
   ],
   "source": [
    "num_var\n",
    "cat_var"
   ]
  },
  {
   "cell_type": "code",
   "execution_count": 24,
   "metadata": {},
   "outputs": [],
   "source": [
    "#******************************* Utility Functions****************************************************************************#\n",
    "# Function to update above variable list at any point of time while droping variables.\n",
    "\n",
    "def list_update(var):\n",
    "    if var in cat_var:\n",
    "        cat_var.remove(var)\n",
    "    elif var in numerical_var:\n",
    "        numerical_var.remove(var)\n",
    "    else:\n",
    "        print (\"This variable is not present in either of the list.\")\n",
    "\n",
    "            \n",
    "# Function to drop all the variables in given list from main dataset i.e \"credit\".\n",
    "def list_drop(listx):\n",
    "    for var in listx:\n",
    "        list_update(var)\n",
    "        credit.drop(var,axis=1,inplace=True)\n",
    "        \n",
    "#*****************************************************************************************************************************#"
   ]
  },
  {
   "cell_type": "code",
   "execution_count": 25,
   "metadata": {},
   "outputs": [
    {
     "name": "stdout",
     "output_type": "stream",
     "text": [
      "Numerical Variables:\n",
      "\n",
      "Mental Fatigue Score,\n",
      "Burn Rate,\n",
      "Employment Duration,\n"
     ]
    }
   ],
   "source": [
    "print (\"Numerical Variables:\\n\")\n",
    "for var in num_var:\n",
    "    print (var+\",\",)"
   ]
  },
  {
   "cell_type": "code",
   "execution_count": 26,
   "metadata": {},
   "outputs": [
    {
     "name": "stdout",
     "output_type": "stream",
     "text": [
      "Categorical Variables:\n",
      "\n",
      "Gender,\n",
      "Company Type,\n",
      "WFH Setup Available,\n",
      "Designation,\n",
      "Resource Allocation,\n"
     ]
    }
   ],
   "source": [
    "print (\"Categorical Variables:\\n\")\n",
    "for var in cat_var:\n",
    "    print (var+\",\",)"
   ]
  },
  {
   "cell_type": "code",
   "execution_count": 27,
   "metadata": {},
   "outputs": [
    {
     "name": "stdout",
     "output_type": "stream",
     "text": [
      "Number of numerical variables  :3\n",
      "Number of categorical variables:5\n"
     ]
    }
   ],
   "source": [
    "print ('Number of numerical variables  :{}'.format(len(num_var)))\n",
    "print ('Number of categorical variables:{}'.format(len(cat_var)))"
   ]
  },
  {
   "cell_type": "markdown",
   "metadata": {},
   "source": [
    "#### Checking for Missing Values"
   ]
  },
  {
   "cell_type": "code",
   "execution_count": 28,
   "metadata": {},
   "outputs": [
    {
     "data": {
      "text/plain": [
       "Index(['Resource Allocation', 'Mental Fatigue Score', 'Burn Rate'], dtype='object')"
      ]
     },
     "execution_count": 28,
     "metadata": {},
     "output_type": "execute_result"
    }
   ],
   "source": [
    "df.columns[df.isnull().any()]"
   ]
  },
  {
   "cell_type": "code",
   "execution_count": 29,
   "metadata": {},
   "outputs": [
    {
     "name": "stdout",
     "output_type": "stream",
     "text": [
      "Your selected dataframe has 8 columns and 22750 Rows.\n",
      "There are 3 columns that have missing values.\n"
     ]
    },
    {
     "data": {
      "text/html": [
       "<div>\n",
       "<style scoped>\n",
       "    .dataframe tbody tr th:only-of-type {\n",
       "        vertical-align: middle;\n",
       "    }\n",
       "\n",
       "    .dataframe tbody tr th {\n",
       "        vertical-align: top;\n",
       "    }\n",
       "\n",
       "    .dataframe thead th {\n",
       "        text-align: right;\n",
       "    }\n",
       "</style>\n",
       "<table border=\"1\" class=\"dataframe\">\n",
       "  <thead>\n",
       "    <tr style=\"text-align: right;\">\n",
       "      <th></th>\n",
       "      <th>Zero Values</th>\n",
       "      <th>Missing Values</th>\n",
       "      <th>% of Total Values</th>\n",
       "      <th>Total Zero Missing Values</th>\n",
       "      <th>% Total Zero Missing Values</th>\n",
       "      <th>Data Type</th>\n",
       "    </tr>\n",
       "  </thead>\n",
       "  <tbody>\n",
       "    <tr>\n",
       "      <th>Mental Fatigue Score</th>\n",
       "      <td>171</td>\n",
       "      <td>2117</td>\n",
       "      <td>9.3</td>\n",
       "      <td>2288</td>\n",
       "      <td>10.1</td>\n",
       "      <td>float64</td>\n",
       "    </tr>\n",
       "    <tr>\n",
       "      <th>Resource Allocation</th>\n",
       "      <td>0</td>\n",
       "      <td>1381</td>\n",
       "      <td>6.1</td>\n",
       "      <td>1381</td>\n",
       "      <td>6.1</td>\n",
       "      <td>category</td>\n",
       "    </tr>\n",
       "    <tr>\n",
       "      <th>Burn Rate</th>\n",
       "      <td>272</td>\n",
       "      <td>1124</td>\n",
       "      <td>4.9</td>\n",
       "      <td>1396</td>\n",
       "      <td>6.1</td>\n",
       "      <td>float64</td>\n",
       "    </tr>\n",
       "  </tbody>\n",
       "</table>\n",
       "</div>"
      ],
      "text/plain": [
       "                      Zero Values  Missing Values  % of Total Values  \\\n",
       "Mental Fatigue Score          171            2117                9.3   \n",
       "Resource Allocation             0            1381                6.1   \n",
       "Burn Rate                     272            1124                4.9   \n",
       "\n",
       "                      Total Zero Missing Values  % Total Zero Missing Values  \\\n",
       "Mental Fatigue Score                       2288                         10.1   \n",
       "Resource Allocation                        1381                          6.1   \n",
       "Burn Rate                                  1396                          6.1   \n",
       "\n",
       "                     Data Type  \n",
       "Mental Fatigue Score   float64  \n",
       "Resource Allocation   category  \n",
       "Burn Rate              float64  "
      ]
     },
     "execution_count": 29,
     "metadata": {},
     "output_type": "execute_result"
    }
   ],
   "source": [
    "# Missing and zero values\n",
    "def missing_zero_values_table(df):\n",
    "        zero_val = (df == 0.00).astype(int).sum(axis=0)\n",
    "        mis_val = df.isnull().sum()\n",
    "        mis_val_percent = 100 * df.isnull().sum() / len(df)\n",
    "        mz_table = pd.concat([zero_val, mis_val, mis_val_percent], axis=1)\n",
    "        mz_table = mz_table.rename(\n",
    "        columns = {0 : 'Zero Values', 1 : 'Missing Values', 2 : '% of Total Values'})\n",
    "        mz_table['Total Zero Missing Values'] = mz_table['Zero Values'] + mz_table['Missing Values']\n",
    "        mz_table['% Total Zero Missing Values'] = 100 * mz_table['Total Zero Missing Values'] / len(df)\n",
    "        mz_table['Data Type'] = df.dtypes\n",
    "        mz_table = mz_table[\n",
    "            mz_table.iloc[:,1] != 0].sort_values(\n",
    "        '% of Total Values', ascending=False).round(1)\n",
    "        print (\"Your selected dataframe has \" + str(df.shape[1]) + \" columns and \" + str(df.shape[0]) + \" Rows.\\n\"      \n",
    "            \"There are \" + str(mz_table.shape[0]) +\n",
    "              \" columns that have missing values.\")\n",
    "#       mz_table.to_excel('D:/sampledata/missing_and_zero_values.xlsx', freeze_panes=(1,0), index = False)\n",
    "        return mz_table\n",
    "\n",
    "missing_zero_values_table(df)"
   ]
  },
  {
   "cell_type": "code",
   "execution_count": 30,
   "metadata": {},
   "outputs": [
    {
     "name": "stdout",
     "output_type": "stream",
     "text": [
      "Mental Fatigue Score    9.31\n",
      "Resource Allocation     6.07\n",
      "Burn Rate               4.94\n",
      "Employment Duration     0.00\n",
      "Designation             0.00\n",
      "WFH Setup Available     0.00\n",
      "Company Type            0.00\n",
      "Gender                  0.00\n",
      "dtype: float64\n"
     ]
    }
   ],
   "source": [
    "# Find only missing values\n",
    "def missing(df):\n",
    "    print (round((df.isnull().sum() * 100/ len(df)),2).sort_values(ascending=False))\n",
    "\n",
    "missing(df)"
   ]
  },
  {
   "cell_type": "code",
   "execution_count": 31,
   "metadata": {},
   "outputs": [],
   "source": [
    "# Drop rows that have missing values\n",
    "df = df[df['Burn Rate'].notna()]\n",
    "df = df[df['Mental Fatigue Score'].notna()]\n",
    "df = df[df['Resource Allocation'].notna()]\n",
    "\n",
    "# Impute with mean for numeric\n",
    "#df['Mental Fatigue Score'] = df['Mental Fatigue Score'].fillna((df['Mental Fatigue Score'].mean()))\n",
    "#df['Burn Rate'] = df['Burn Rate'].fillna((df['Burn Rate'].mean()))\n",
    "\n",
    "# Impute with column mode for categorical(Resource Allocation)\n",
    "#df.fillna(df.select_dtypes(include='category').mode().iloc[0], inplace=True)"
   ]
  },
  {
   "cell_type": "code",
   "execution_count": 32,
   "metadata": {},
   "outputs": [
    {
     "name": "stdout",
     "output_type": "stream",
     "text": [
      "Employment Duration     0.0\n",
      "Burn Rate               0.0\n",
      "Mental Fatigue Score    0.0\n",
      "Resource Allocation     0.0\n",
      "Designation             0.0\n",
      "WFH Setup Available     0.0\n",
      "Company Type            0.0\n",
      "Gender                  0.0\n",
      "dtype: float64\n"
     ]
    }
   ],
   "source": [
    "#Check for any missing values\n",
    "missing(df)"
   ]
  },
  {
   "cell_type": "code",
   "execution_count": 33,
   "metadata": {},
   "outputs": [
    {
     "data": {
      "text/html": [
       "<div>\n",
       "<style scoped>\n",
       "    .dataframe tbody tr th:only-of-type {\n",
       "        vertical-align: middle;\n",
       "    }\n",
       "\n",
       "    .dataframe tbody tr th {\n",
       "        vertical-align: top;\n",
       "    }\n",
       "\n",
       "    .dataframe thead th {\n",
       "        text-align: right;\n",
       "    }\n",
       "</style>\n",
       "<table border=\"1\" class=\"dataframe\">\n",
       "  <thead>\n",
       "    <tr style=\"text-align: right;\">\n",
       "      <th></th>\n",
       "      <th>MEAN</th>\n",
       "      <th>NMISS</th>\n",
       "      <th>N</th>\n",
       "      <th>SUM</th>\n",
       "      <th>STD</th>\n",
       "      <th>VAR</th>\n",
       "      <th>MIN</th>\n",
       "      <th>P1</th>\n",
       "      <th>P5</th>\n",
       "      <th>P10</th>\n",
       "      <th>P25</th>\n",
       "      <th>P50</th>\n",
       "      <th>P75</th>\n",
       "      <th>P90</th>\n",
       "      <th>P95</th>\n",
       "      <th>P99</th>\n",
       "      <th>MAX</th>\n",
       "    </tr>\n",
       "  </thead>\n",
       "  <tbody>\n",
       "    <tr>\n",
       "      <th>Mental Fatigue Score</th>\n",
       "      <td>5.732173</td>\n",
       "      <td>0.0</td>\n",
       "      <td>18590.0</td>\n",
       "      <td>106561.10</td>\n",
       "      <td>1.920547</td>\n",
       "      <td>3.688500</td>\n",
       "      <td>0.000000</td>\n",
       "      <td>0.200000</td>\n",
       "      <td>2.30000</td>\n",
       "      <td>3.200000</td>\n",
       "      <td>4.60000</td>\n",
       "      <td>5.900000</td>\n",
       "      <td>7.10000</td>\n",
       "      <td>8.100000</td>\n",
       "      <td>8.70000</td>\n",
       "      <td>9.700000</td>\n",
       "      <td>10.000000</td>\n",
       "    </tr>\n",
       "    <tr>\n",
       "      <th>Burn Rate</th>\n",
       "      <td>0.452444</td>\n",
       "      <td>0.0</td>\n",
       "      <td>18590.0</td>\n",
       "      <td>8410.94</td>\n",
       "      <td>0.197848</td>\n",
       "      <td>0.039144</td>\n",
       "      <td>0.000000</td>\n",
       "      <td>0.000000</td>\n",
       "      <td>0.12000</td>\n",
       "      <td>0.190000</td>\n",
       "      <td>0.32000</td>\n",
       "      <td>0.450000</td>\n",
       "      <td>0.59000</td>\n",
       "      <td>0.710000</td>\n",
       "      <td>0.78000</td>\n",
       "      <td>0.920000</td>\n",
       "      <td>1.000000</td>\n",
       "    </tr>\n",
       "    <tr>\n",
       "      <th>Employment Duration</th>\n",
       "      <td>12.346606</td>\n",
       "      <td>0.0</td>\n",
       "      <td>18590.0</td>\n",
       "      <td>229523.40</td>\n",
       "      <td>0.288454</td>\n",
       "      <td>0.083206</td>\n",
       "      <td>11.846575</td>\n",
       "      <td>11.854795</td>\n",
       "      <td>11.89589</td>\n",
       "      <td>11.950685</td>\n",
       "      <td>12.09863</td>\n",
       "      <td>12.342466</td>\n",
       "      <td>12.59726</td>\n",
       "      <td>12.747945</td>\n",
       "      <td>12.79726</td>\n",
       "      <td>12.838356</td>\n",
       "      <td>12.846575</td>\n",
       "    </tr>\n",
       "  </tbody>\n",
       "</table>\n",
       "</div>"
      ],
      "text/plain": [
       "                           MEAN  NMISS        N        SUM       STD  \\\n",
       "Mental Fatigue Score   5.732173    0.0  18590.0  106561.10  1.920547   \n",
       "Burn Rate              0.452444    0.0  18590.0    8410.94  0.197848   \n",
       "Employment Duration   12.346606    0.0  18590.0  229523.40  0.288454   \n",
       "\n",
       "                           VAR        MIN         P1        P5        P10  \\\n",
       "Mental Fatigue Score  3.688500   0.000000   0.200000   2.30000   3.200000   \n",
       "Burn Rate             0.039144   0.000000   0.000000   0.12000   0.190000   \n",
       "Employment Duration   0.083206  11.846575  11.854795  11.89589  11.950685   \n",
       "\n",
       "                           P25        P50       P75        P90       P95  \\\n",
       "Mental Fatigue Score   4.60000   5.900000   7.10000   8.100000   8.70000   \n",
       "Burn Rate              0.32000   0.450000   0.59000   0.710000   0.78000   \n",
       "Employment Duration   12.09863  12.342466  12.59726  12.747945  12.79726   \n",
       "\n",
       "                            P99        MAX  \n",
       "Mental Fatigue Score   9.700000  10.000000  \n",
       "Burn Rate              0.920000   1.000000  \n",
       "Employment Duration   12.838356  12.846575  "
      ]
     },
     "execution_count": 33,
     "metadata": {},
     "output_type": "execute_result"
    }
   ],
   "source": [
    "# Creating Data audit Report\n",
    "# Use a general function that returns multiple values    \n",
    "df_num=df[num_var]\n",
    "def var_summary(x):\n",
    "    return pd.Series([x.mean(),x.isnull().sum(), x.count(), x.sum(), x.std(), x.var(), x.min(), x.dropna().quantile(0.01), x.dropna().quantile(0.05),x.dropna().quantile(0.10),x.dropna().quantile(0.25),x.dropna().quantile(0.50),x.dropna().quantile(0.75), x.dropna().quantile(0.90),x.dropna().quantile(0.95), x.dropna().quantile(0.99),x.max()], \n",
    "                  index=['MEAN','NMISS','N', 'SUM','STD', 'VAR', 'MIN', 'P1' , 'P5' ,'P10' ,'P25' ,'P50' ,'P75' ,'P90' ,'P95' ,'P99' ,'MAX'])\n",
    " \n",
    "num_summary=df_num.apply(lambda x: var_summary(x)).T\n",
    "#num_summary.to_excel(writer,'Numerical_Variable Summary',index=True)\n",
    "num_summary.head()"
   ]
  },
  {
   "cell_type": "code",
   "execution_count": 34,
   "metadata": {},
   "outputs": [
    {
     "data": {
      "text/plain": [
       "<AxesSubplot:>"
      ]
     },
     "execution_count": 34,
     "metadata": {},
     "output_type": "execute_result"
    },
    {
     "data": {
      "image/png": "[encoded data removed]",
      "text/plain": [
       "<Figure size 792x648 with 2 Axes>"
      ]
     },
     "metadata": {
      "needs_background": "light"
     },
     "output_type": "display_data"
    }
   ],
   "source": [
    "#Correlation Matrix\n",
    "\n",
    "cor = df.corr()\n",
    "cor\n",
    "# Set up the matplotlib figure\n",
    "f, ax = plt.subplots(figsize=(11, 9))\n",
    "sns.heatmap(cor)"
   ]
  },
  {
   "cell_type": "code",
   "execution_count": 35,
   "metadata": {},
   "outputs": [
    {
     "data": {
      "text/html": [
       "<div>\n",
       "<style scoped>\n",
       "    .dataframe tbody tr th:only-of-type {\n",
       "        vertical-align: middle;\n",
       "    }\n",
       "\n",
       "    .dataframe tbody tr th {\n",
       "        vertical-align: top;\n",
       "    }\n",
       "\n",
       "    .dataframe thead th {\n",
       "        text-align: right;\n",
       "    }\n",
       "</style>\n",
       "<table border=\"1\" class=\"dataframe\">\n",
       "  <thead>\n",
       "    <tr style=\"text-align: right;\">\n",
       "      <th></th>\n",
       "      <th>Mental Fatigue Score</th>\n",
       "      <th>Burn Rate</th>\n",
       "      <th>Employment Duration</th>\n",
       "    </tr>\n",
       "  </thead>\n",
       "  <tbody>\n",
       "    <tr>\n",
       "      <th>Mental Fatigue Score</th>\n",
       "      <td>1.000000</td>\n",
       "      <td>0.944389</td>\n",
       "      <td>-0.000037</td>\n",
       "    </tr>\n",
       "    <tr>\n",
       "      <th>Burn Rate</th>\n",
       "      <td>0.944389</td>\n",
       "      <td>1.000000</td>\n",
       "      <td>-0.000309</td>\n",
       "    </tr>\n",
       "    <tr>\n",
       "      <th>Employment Duration</th>\n",
       "      <td>-0.000037</td>\n",
       "      <td>-0.000309</td>\n",
       "      <td>1.000000</td>\n",
       "    </tr>\n",
       "  </tbody>\n",
       "</table>\n",
       "</div>"
      ],
      "text/plain": [
       "                      Mental Fatigue Score  Burn Rate  Employment Duration\n",
       "Mental Fatigue Score              1.000000   0.944389            -0.000037\n",
       "Burn Rate                         0.944389   1.000000            -0.000309\n",
       "Employment Duration              -0.000037  -0.000309             1.000000"
      ]
     },
     "execution_count": 35,
     "metadata": {},
     "output_type": "execute_result"
    }
   ],
   "source": [
    "cor"
   ]
  },
  {
   "cell_type": "code",
   "execution_count": 36,
   "metadata": {},
   "outputs": [],
   "source": [
    "# Resource Allocation and Mental Fatigue Score are highly correlated, so we will drop one column\n",
    "\n",
    "# df.drop('Resource Allocation',axis=1,inplace=True)\n",
    "\n",
    "df.drop('Employment Duration',axis=1,inplace=True)"
   ]
  },
  {
   "cell_type": "code",
   "execution_count": 37,
   "metadata": {},
   "outputs": [
    {
     "name": "stdout",
     "output_type": "stream",
     "text": [
      "<class 'pandas.core.frame.DataFrame'>\n",
      "Int64Index: 18590 entries, 0 to 22749\n",
      "Data columns (total 7 columns):\n",
      " #   Column                Non-Null Count  Dtype   \n",
      "---  ------                --------------  -----   \n",
      " 0   Gender                18590 non-null  category\n",
      " 1   Company Type          18590 non-null  category\n",
      " 2   WFH Setup Available   18590 non-null  category\n",
      " 3   Designation           18590 non-null  category\n",
      " 4   Resource Allocation   18590 non-null  category\n",
      " 5   Mental Fatigue Score  18590 non-null  float64 \n",
      " 6   Burn Rate             18590 non-null  float64 \n",
      "dtypes: category(5), float64(2)\n",
      "memory usage: 527.3 KB\n"
     ]
    }
   ],
   "source": [
    "df.info()"
   ]
  },
  {
   "cell_type": "code",
   "execution_count": 38,
   "metadata": {},
   "outputs": [
    {
     "data": {
      "text/plain": [
       "0    7\n",
       "dtype: int64"
      ]
     },
     "execution_count": 38,
     "metadata": {},
     "output_type": "execute_result"
    }
   ],
   "source": [
    "# Checking if it still contains any missing Values\n",
    "df.isnull().sum().value_counts()"
   ]
  },
  {
   "cell_type": "markdown",
   "metadata": {},
   "source": [
    "#### Dummy Variable Creation\n",
    "\n",
    "Converting Categorical/Object into Numerical Variable"
   ]
  },
  {
   "cell_type": "code",
   "execution_count": 39,
   "metadata": {},
   "outputs": [],
   "source": [
    "# One Hot Encoding\n",
    "# Convert categorical variables to numerical\n",
    "\n",
    "df=pd.get_dummies(df, columns=[\"Gender\"])\n",
    "df=pd.get_dummies(df, columns=[\"Company Type\"])\n",
    "df=pd.get_dummies(df, columns=[\"WFH Setup Available\"])\n",
    "df=pd.get_dummies(df, columns=[\"Designation\"])\n",
    "df=pd.get_dummies(df, columns=[\"Resource Allocation\"])"
   ]
  },
  {
   "cell_type": "code",
   "execution_count": 40,
   "metadata": {},
   "outputs": [
    {
     "name": "stdout",
     "output_type": "stream",
     "text": [
      "<class 'pandas.core.frame.DataFrame'>\n",
      "Int64Index: 18590 entries, 0 to 22749\n",
      "Data columns (total 24 columns):\n",
      " #   Column                    Non-Null Count  Dtype  \n",
      "---  ------                    --------------  -----  \n",
      " 0   Mental Fatigue Score      18590 non-null  float64\n",
      " 1   Burn Rate                 18590 non-null  float64\n",
      " 2   Gender_Female             18590 non-null  uint8  \n",
      " 3   Gender_Male               18590 non-null  uint8  \n",
      " 4   Company Type_Product      18590 non-null  uint8  \n",
      " 5   Company Type_Service      18590 non-null  uint8  \n",
      " 6   WFH Setup Available_No    18590 non-null  uint8  \n",
      " 7   WFH Setup Available_Yes   18590 non-null  uint8  \n",
      " 8   Designation_0.0           18590 non-null  uint8  \n",
      " 9   Designation_1.0           18590 non-null  uint8  \n",
      " 10  Designation_2.0           18590 non-null  uint8  \n",
      " 11  Designation_3.0           18590 non-null  uint8  \n",
      " 12  Designation_4.0           18590 non-null  uint8  \n",
      " 13  Designation_5.0           18590 non-null  uint8  \n",
      " 14  Resource Allocation_1.0   18590 non-null  uint8  \n",
      " 15  Resource Allocation_2.0   18590 non-null  uint8  \n",
      " 16  Resource Allocation_3.0   18590 non-null  uint8  \n",
      " 17  Resource Allocation_4.0   18590 non-null  uint8  \n",
      " 18  Resource Allocation_5.0   18590 non-null  uint8  \n",
      " 19  Resource Allocation_6.0   18590 non-null  uint8  \n",
      " 20  Resource Allocation_7.0   18590 non-null  uint8  \n",
      " 21  Resource Allocation_8.0   18590 non-null  uint8  \n",
      " 22  Resource Allocation_9.0   18590 non-null  uint8  \n",
      " 23  Resource Allocation_10.0  18590 non-null  uint8  \n",
      "dtypes: float64(2), uint8(22)\n",
      "memory usage: 835.1 KB\n"
     ]
    }
   ],
   "source": [
    "df.info()"
   ]
  },
  {
   "cell_type": "code",
   "execution_count": 41,
   "metadata": {},
   "outputs": [
    {
     "data": {
      "text/plain": [
       "<AxesSubplot:>"
      ]
     },
     "execution_count": 41,
     "metadata": {},
     "output_type": "execute_result"
    },
    {
     "data": {
      "image/png": "[encoded data removed]",
      "text/plain": [
       "<Figure size 792x648 with 2 Axes>"
      ]
     },
     "metadata": {
      "needs_background": "light"
     },
     "output_type": "display_data"
    }
   ],
   "source": [
    "#Correlation Matrix of new dataframe\n",
    "\n",
    "cor = df.corr()\n",
    "cor\n",
    "# Set up the matplotlib figure\n",
    "f, ax = plt.subplots(figsize=(11, 9))\n",
    "sns.heatmap(cor)"
   ]
  },
  {
   "cell_type": "code",
   "execution_count": 42,
   "metadata": {},
   "outputs": [
    {
     "data": {
      "text/html": [
       "<div>\n",
       "<style scoped>\n",
       "    .dataframe tbody tr th:only-of-type {\n",
       "        vertical-align: middle;\n",
       "    }\n",
       "\n",
       "    .dataframe tbody tr th {\n",
       "        vertical-align: top;\n",
       "    }\n",
       "\n",
       "    .dataframe thead th {\n",
       "        text-align: right;\n",
       "    }\n",
       "</style>\n",
       "<table border=\"1\" class=\"dataframe\">\n",
       "  <thead>\n",
       "    <tr style=\"text-align: right;\">\n",
       "      <th></th>\n",
       "      <th>Mental Fatigue Score</th>\n",
       "      <th>Burn Rate</th>\n",
       "      <th>Gender_Female</th>\n",
       "      <th>Gender_Male</th>\n",
       "      <th>Company Type_Product</th>\n",
       "      <th>Company Type_Service</th>\n",
       "      <th>WFH Setup Available_No</th>\n",
       "      <th>WFH Setup Available_Yes</th>\n",
       "      <th>Designation_0.0</th>\n",
       "      <th>Designation_1.0</th>\n",
       "      <th>...</th>\n",
       "      <th>Resource Allocation_1.0</th>\n",
       "      <th>Resource Allocation_2.0</th>\n",
       "      <th>Resource Allocation_3.0</th>\n",
       "      <th>Resource Allocation_4.0</th>\n",
       "      <th>Resource Allocation_5.0</th>\n",
       "      <th>Resource Allocation_6.0</th>\n",
       "      <th>Resource Allocation_7.0</th>\n",
       "      <th>Resource Allocation_8.0</th>\n",
       "      <th>Resource Allocation_9.0</th>\n",
       "      <th>Resource Allocation_10.0</th>\n",
       "    </tr>\n",
       "  </thead>\n",
       "  <tbody>\n",
       "    <tr>\n",
       "      <th>Mental Fatigue Score</th>\n",
       "      <td>1.000000</td>\n",
       "      <td>0.944389</td>\n",
       "      <td>-0.145760</td>\n",
       "      <td>0.145760</td>\n",
       "      <td>-0.004697</td>\n",
       "      <td>0.004697</td>\n",
       "      <td>0.277683</td>\n",
       "      <td>-0.277683</td>\n",
       "      <td>-0.430462</td>\n",
       "      <td>-0.348857</td>\n",
       "      <td>...</td>\n",
       "      <td>-0.510675</td>\n",
       "      <td>-0.310490</td>\n",
       "      <td>-0.199543</td>\n",
       "      <td>-0.043316</td>\n",
       "      <td>0.113096</td>\n",
       "      <td>0.245869</td>\n",
       "      <td>0.292871</td>\n",
       "      <td>0.282117</td>\n",
       "      <td>0.233845</td>\n",
       "      <td>0.153993</td>\n",
       "    </tr>\n",
       "    <tr>\n",
       "      <th>Burn Rate</th>\n",
       "      <td>0.944389</td>\n",
       "      <td>1.000000</td>\n",
       "      <td>-0.156577</td>\n",
       "      <td>0.156577</td>\n",
       "      <td>-0.005904</td>\n",
       "      <td>0.005904</td>\n",
       "      <td>0.307168</td>\n",
       "      <td>-0.307168</td>\n",
       "      <td>-0.406542</td>\n",
       "      <td>-0.378232</td>\n",
       "      <td>...</td>\n",
       "      <td>-0.478655</td>\n",
       "      <td>-0.327562</td>\n",
       "      <td>-0.237767</td>\n",
       "      <td>-0.080415</td>\n",
       "      <td>0.095773</td>\n",
       "      <td>0.252224</td>\n",
       "      <td>0.324994</td>\n",
       "      <td>0.324734</td>\n",
       "      <td>0.281336</td>\n",
       "      <td>0.192918</td>\n",
       "    </tr>\n",
       "    <tr>\n",
       "      <th>Gender_Female</th>\n",
       "      <td>-0.145760</td>\n",
       "      <td>-0.156577</td>\n",
       "      <td>1.000000</td>\n",
       "      <td>-1.000000</td>\n",
       "      <td>-0.009289</td>\n",
       "      <td>0.009289</td>\n",
       "      <td>-0.073718</td>\n",
       "      <td>0.073718</td>\n",
       "      <td>0.049207</td>\n",
       "      <td>0.068400</td>\n",
       "      <td>...</td>\n",
       "      <td>0.055617</td>\n",
       "      <td>0.049019</td>\n",
       "      <td>0.053723</td>\n",
       "      <td>0.044721</td>\n",
       "      <td>-0.005817</td>\n",
       "      <td>-0.065624</td>\n",
       "      <td>-0.086300</td>\n",
       "      <td>-0.051776</td>\n",
       "      <td>-0.028816</td>\n",
       "      <td>-0.013061</td>\n",
       "    </tr>\n",
       "    <tr>\n",
       "      <th>Gender_Male</th>\n",
       "      <td>0.145760</td>\n",
       "      <td>0.156577</td>\n",
       "      <td>-1.000000</td>\n",
       "      <td>1.000000</td>\n",
       "      <td>0.009289</td>\n",
       "      <td>-0.009289</td>\n",
       "      <td>0.073718</td>\n",
       "      <td>-0.073718</td>\n",
       "      <td>-0.049207</td>\n",
       "      <td>-0.068400</td>\n",
       "      <td>...</td>\n",
       "      <td>-0.055617</td>\n",
       "      <td>-0.049019</td>\n",
       "      <td>-0.053723</td>\n",
       "      <td>-0.044721</td>\n",
       "      <td>0.005817</td>\n",
       "      <td>0.065624</td>\n",
       "      <td>0.086300</td>\n",
       "      <td>0.051776</td>\n",
       "      <td>0.028816</td>\n",
       "      <td>0.013061</td>\n",
       "    </tr>\n",
       "    <tr>\n",
       "      <th>Company Type_Product</th>\n",
       "      <td>-0.004697</td>\n",
       "      <td>-0.005904</td>\n",
       "      <td>-0.009289</td>\n",
       "      <td>0.009289</td>\n",
       "      <td>1.000000</td>\n",
       "      <td>-1.000000</td>\n",
       "      <td>-0.000756</td>\n",
       "      <td>0.000756</td>\n",
       "      <td>0.015760</td>\n",
       "      <td>-0.003222</td>\n",
       "      <td>...</td>\n",
       "      <td>0.010516</td>\n",
       "      <td>0.004151</td>\n",
       "      <td>-0.005380</td>\n",
       "      <td>-0.006169</td>\n",
       "      <td>0.002932</td>\n",
       "      <td>0.001996</td>\n",
       "      <td>-0.004199</td>\n",
       "      <td>-0.003695</td>\n",
       "      <td>0.002608</td>\n",
       "      <td>-0.000331</td>\n",
       "    </tr>\n",
       "    <tr>\n",
       "      <th>Company Type_Service</th>\n",
       "      <td>0.004697</td>\n",
       "      <td>0.005904</td>\n",
       "      <td>0.009289</td>\n",
       "      <td>-0.009289</td>\n",
       "      <td>-1.000000</td>\n",
       "      <td>1.000000</td>\n",
       "      <td>0.000756</td>\n",
       "      <td>-0.000756</td>\n",
       "      <td>-0.015760</td>\n",
       "      <td>0.003222</td>\n",
       "      <td>...</td>\n",
       "      <td>-0.010516</td>\n",
       "      <td>-0.004151</td>\n",
       "      <td>0.005380</td>\n",
       "      <td>0.006169</td>\n",
       "      <td>-0.002932</td>\n",
       "      <td>-0.001996</td>\n",
       "      <td>0.004199</td>\n",
       "      <td>0.003695</td>\n",
       "      <td>-0.002608</td>\n",
       "      <td>0.000331</td>\n",
       "    </tr>\n",
       "    <tr>\n",
       "      <th>WFH Setup Available_No</th>\n",
       "      <td>0.277683</td>\n",
       "      <td>0.307168</td>\n",
       "      <td>-0.073718</td>\n",
       "      <td>0.073718</td>\n",
       "      <td>-0.000756</td>\n",
       "      <td>0.000756</td>\n",
       "      <td>1.000000</td>\n",
       "      <td>-1.000000</td>\n",
       "      <td>-0.084432</td>\n",
       "      <td>-0.150240</td>\n",
       "      <td>...</td>\n",
       "      <td>-0.089831</td>\n",
       "      <td>-0.113694</td>\n",
       "      <td>-0.129992</td>\n",
       "      <td>-0.090977</td>\n",
       "      <td>0.039808</td>\n",
       "      <td>0.136633</td>\n",
       "      <td>0.137368</td>\n",
       "      <td>0.114401</td>\n",
       "      <td>0.064024</td>\n",
       "      <td>0.043756</td>\n",
       "    </tr>\n",
       "    <tr>\n",
       "      <th>WFH Setup Available_Yes</th>\n",
       "      <td>-0.277683</td>\n",
       "      <td>-0.307168</td>\n",
       "      <td>0.073718</td>\n",
       "      <td>-0.073718</td>\n",
       "      <td>0.000756</td>\n",
       "      <td>-0.000756</td>\n",
       "      <td>-1.000000</td>\n",
       "      <td>1.000000</td>\n",
       "      <td>0.084432</td>\n",
       "      <td>0.150240</td>\n",
       "      <td>...</td>\n",
       "      <td>0.089831</td>\n",
       "      <td>0.113694</td>\n",
       "      <td>0.129992</td>\n",
       "      <td>0.090977</td>\n",
       "      <td>-0.039808</td>\n",
       "      <td>-0.136633</td>\n",
       "      <td>-0.137368</td>\n",
       "      <td>-0.114401</td>\n",
       "      <td>-0.064024</td>\n",
       "      <td>-0.043756</td>\n",
       "    </tr>\n",
       "    <tr>\n",
       "      <th>Designation_0.0</th>\n",
       "      <td>-0.430462</td>\n",
       "      <td>-0.406542</td>\n",
       "      <td>0.049207</td>\n",
       "      <td>-0.049207</td>\n",
       "      <td>0.015760</td>\n",
       "      <td>-0.015760</td>\n",
       "      <td>-0.084432</td>\n",
       "      <td>0.084432</td>\n",
       "      <td>1.000000</td>\n",
       "      <td>-0.138833</td>\n",
       "      <td>...</td>\n",
       "      <td>0.700411</td>\n",
       "      <td>0.073455</td>\n",
       "      <td>-0.101242</td>\n",
       "      <td>-0.126280</td>\n",
       "      <td>-0.125551</td>\n",
       "      <td>-0.107467</td>\n",
       "      <td>-0.084659</td>\n",
       "      <td>-0.060494</td>\n",
       "      <td>-0.039407</td>\n",
       "      <td>-0.022760</td>\n",
       "    </tr>\n",
       "    <tr>\n",
       "      <th>Designation_1.0</th>\n",
       "      <td>-0.348857</td>\n",
       "      <td>-0.378232</td>\n",
       "      <td>0.068400</td>\n",
       "      <td>-0.068400</td>\n",
       "      <td>-0.003222</td>\n",
       "      <td>0.003222</td>\n",
       "      <td>-0.150240</td>\n",
       "      <td>0.150240</td>\n",
       "      <td>-0.138833</td>\n",
       "      <td>1.000000</td>\n",
       "      <td>...</td>\n",
       "      <td>0.099878</td>\n",
       "      <td>0.402632</td>\n",
       "      <td>0.317436</td>\n",
       "      <td>-0.032085</td>\n",
       "      <td>-0.225872</td>\n",
       "      <td>-0.209121</td>\n",
       "      <td>-0.164738</td>\n",
       "      <td>-0.117715</td>\n",
       "      <td>-0.076682</td>\n",
       "      <td>-0.044288</td>\n",
       "    </tr>\n",
       "    <tr>\n",
       "      <th>Designation_2.0</th>\n",
       "      <td>-0.022060</td>\n",
       "      <td>-0.057222</td>\n",
       "      <td>0.004775</td>\n",
       "      <td>-0.004775</td>\n",
       "      <td>-0.002075</td>\n",
       "      <td>0.002075</td>\n",
       "      <td>-0.028441</td>\n",
       "      <td>0.028441</td>\n",
       "      <td>-0.189270</td>\n",
       "      <td>-0.368301</td>\n",
       "      <td>...</td>\n",
       "      <td>-0.209662</td>\n",
       "      <td>-0.120362</td>\n",
       "      <td>0.116108</td>\n",
       "      <td>0.328703</td>\n",
       "      <td>0.185577</td>\n",
       "      <td>-0.092451</td>\n",
       "      <td>-0.206374</td>\n",
       "      <td>-0.160480</td>\n",
       "      <td>-0.104539</td>\n",
       "      <td>-0.060378</td>\n",
       "    </tr>\n",
       "    <tr>\n",
       "      <th>Designation_3.0</th>\n",
       "      <td>0.278458</td>\n",
       "      <td>0.281395</td>\n",
       "      <td>-0.033115</td>\n",
       "      <td>0.033115</td>\n",
       "      <td>0.001014</td>\n",
       "      <td>-0.001014</td>\n",
       "      <td>0.092112</td>\n",
       "      <td>-0.092112</td>\n",
       "      <td>-0.160245</td>\n",
       "      <td>-0.311821</td>\n",
       "      <td>...</td>\n",
       "      <td>-0.181001</td>\n",
       "      <td>-0.196068</td>\n",
       "      <td>-0.246098</td>\n",
       "      <td>-0.119846</td>\n",
       "      <td>0.208945</td>\n",
       "      <td>0.363234</td>\n",
       "      <td>0.194273</td>\n",
       "      <td>-0.019270</td>\n",
       "      <td>-0.082596</td>\n",
       "      <td>-0.051119</td>\n",
       "    </tr>\n",
       "    <tr>\n",
       "      <th>Designation_4.0</th>\n",
       "      <td>0.356810</td>\n",
       "      <td>0.405504</td>\n",
       "      <td>-0.083662</td>\n",
       "      <td>0.083662</td>\n",
       "      <td>-0.007010</td>\n",
       "      <td>0.007010</td>\n",
       "      <td>0.154893</td>\n",
       "      <td>-0.154893</td>\n",
       "      <td>-0.091359</td>\n",
       "      <td>-0.177776</td>\n",
       "      <td>...</td>\n",
       "      <td>-0.103193</td>\n",
       "      <td>-0.111783</td>\n",
       "      <td>-0.142848</td>\n",
       "      <td>-0.161702</td>\n",
       "      <td>-0.156662</td>\n",
       "      <td>0.008492</td>\n",
       "      <td>0.344778</td>\n",
       "      <td>0.451766</td>\n",
       "      <td>0.235454</td>\n",
       "      <td>0.018618</td>\n",
       "    </tr>\n",
       "    <tr>\n",
       "      <th>Designation_5.0</th>\n",
       "      <td>0.219247</td>\n",
       "      <td>0.268975</td>\n",
       "      <td>-0.017644</td>\n",
       "      <td>0.017644</td>\n",
       "      <td>0.000518</td>\n",
       "      <td>-0.000518</td>\n",
       "      <td>0.060881</td>\n",
       "      <td>-0.060881</td>\n",
       "      <td>-0.035181</td>\n",
       "      <td>-0.068459</td>\n",
       "      <td>...</td>\n",
       "      <td>-0.039738</td>\n",
       "      <td>-0.043046</td>\n",
       "      <td>-0.055009</td>\n",
       "      <td>-0.062269</td>\n",
       "      <td>-0.061910</td>\n",
       "      <td>-0.052993</td>\n",
       "      <td>-0.041746</td>\n",
       "      <td>0.070462</td>\n",
       "      <td>0.423722</td>\n",
       "      <td>0.533965</td>\n",
       "    </tr>\n",
       "    <tr>\n",
       "      <th>Resource Allocation_1.0</th>\n",
       "      <td>-0.510675</td>\n",
       "      <td>-0.478655</td>\n",
       "      <td>0.055617</td>\n",
       "      <td>-0.055617</td>\n",
       "      <td>0.010516</td>\n",
       "      <td>-0.010516</td>\n",
       "      <td>-0.089831</td>\n",
       "      <td>0.089831</td>\n",
       "      <td>0.700411</td>\n",
       "      <td>0.099878</td>\n",
       "      <td>...</td>\n",
       "      <td>1.000000</td>\n",
       "      <td>-0.098603</td>\n",
       "      <td>-0.126006</td>\n",
       "      <td>-0.142637</td>\n",
       "      <td>-0.141814</td>\n",
       "      <td>-0.121387</td>\n",
       "      <td>-0.095625</td>\n",
       "      <td>-0.068330</td>\n",
       "      <td>-0.044511</td>\n",
       "      <td>-0.025708</td>\n",
       "    </tr>\n",
       "    <tr>\n",
       "      <th>Resource Allocation_2.0</th>\n",
       "      <td>-0.310490</td>\n",
       "      <td>-0.327562</td>\n",
       "      <td>0.049019</td>\n",
       "      <td>-0.049019</td>\n",
       "      <td>0.004151</td>\n",
       "      <td>-0.004151</td>\n",
       "      <td>-0.113694</td>\n",
       "      <td>0.113694</td>\n",
       "      <td>0.073455</td>\n",
       "      <td>0.402632</td>\n",
       "      <td>...</td>\n",
       "      <td>-0.098603</td>\n",
       "      <td>1.000000</td>\n",
       "      <td>-0.136494</td>\n",
       "      <td>-0.154510</td>\n",
       "      <td>-0.153618</td>\n",
       "      <td>-0.131492</td>\n",
       "      <td>-0.103585</td>\n",
       "      <td>-0.074017</td>\n",
       "      <td>-0.048216</td>\n",
       "      <td>-0.027848</td>\n",
       "    </tr>\n",
       "    <tr>\n",
       "      <th>Resource Allocation_3.0</th>\n",
       "      <td>-0.199543</td>\n",
       "      <td>-0.237767</td>\n",
       "      <td>0.053723</td>\n",
       "      <td>-0.053723</td>\n",
       "      <td>-0.005380</td>\n",
       "      <td>0.005380</td>\n",
       "      <td>-0.129992</td>\n",
       "      <td>0.129992</td>\n",
       "      <td>-0.101242</td>\n",
       "      <td>0.317436</td>\n",
       "      <td>...</td>\n",
       "      <td>-0.126006</td>\n",
       "      <td>-0.136494</td>\n",
       "      <td>1.000000</td>\n",
       "      <td>-0.197449</td>\n",
       "      <td>-0.196310</td>\n",
       "      <td>-0.168034</td>\n",
       "      <td>-0.132371</td>\n",
       "      <td>-0.094587</td>\n",
       "      <td>-0.061615</td>\n",
       "      <td>-0.035587</td>\n",
       "    </tr>\n",
       "    <tr>\n",
       "      <th>Resource Allocation_4.0</th>\n",
       "      <td>-0.043316</td>\n",
       "      <td>-0.080415</td>\n",
       "      <td>0.044721</td>\n",
       "      <td>-0.044721</td>\n",
       "      <td>-0.006169</td>\n",
       "      <td>0.006169</td>\n",
       "      <td>-0.090977</td>\n",
       "      <td>0.090977</td>\n",
       "      <td>-0.126280</td>\n",
       "      <td>-0.032085</td>\n",
       "      <td>...</td>\n",
       "      <td>-0.142637</td>\n",
       "      <td>-0.154510</td>\n",
       "      <td>-0.197449</td>\n",
       "      <td>1.000000</td>\n",
       "      <td>-0.222220</td>\n",
       "      <td>-0.190212</td>\n",
       "      <td>-0.149843</td>\n",
       "      <td>-0.107071</td>\n",
       "      <td>-0.069748</td>\n",
       "      <td>-0.040284</td>\n",
       "    </tr>\n",
       "    <tr>\n",
       "      <th>Resource Allocation_5.0</th>\n",
       "      <td>0.113096</td>\n",
       "      <td>0.095773</td>\n",
       "      <td>-0.005817</td>\n",
       "      <td>0.005817</td>\n",
       "      <td>0.002932</td>\n",
       "      <td>-0.002932</td>\n",
       "      <td>0.039808</td>\n",
       "      <td>-0.039808</td>\n",
       "      <td>-0.125551</td>\n",
       "      <td>-0.225872</td>\n",
       "      <td>...</td>\n",
       "      <td>-0.141814</td>\n",
       "      <td>-0.153618</td>\n",
       "      <td>-0.196310</td>\n",
       "      <td>-0.222220</td>\n",
       "      <td>1.000000</td>\n",
       "      <td>-0.189115</td>\n",
       "      <td>-0.148978</td>\n",
       "      <td>-0.106454</td>\n",
       "      <td>-0.069346</td>\n",
       "      <td>-0.040051</td>\n",
       "    </tr>\n",
       "    <tr>\n",
       "      <th>Resource Allocation_6.0</th>\n",
       "      <td>0.245869</td>\n",
       "      <td>0.252224</td>\n",
       "      <td>-0.065624</td>\n",
       "      <td>0.065624</td>\n",
       "      <td>0.001996</td>\n",
       "      <td>-0.001996</td>\n",
       "      <td>0.136633</td>\n",
       "      <td>-0.136633</td>\n",
       "      <td>-0.107467</td>\n",
       "      <td>-0.209121</td>\n",
       "      <td>...</td>\n",
       "      <td>-0.121387</td>\n",
       "      <td>-0.131492</td>\n",
       "      <td>-0.168034</td>\n",
       "      <td>-0.190212</td>\n",
       "      <td>-0.189115</td>\n",
       "      <td>1.000000</td>\n",
       "      <td>-0.127520</td>\n",
       "      <td>-0.091120</td>\n",
       "      <td>-0.059357</td>\n",
       "      <td>-0.034283</td>\n",
       "    </tr>\n",
       "    <tr>\n",
       "      <th>Resource Allocation_7.0</th>\n",
       "      <td>0.292871</td>\n",
       "      <td>0.324994</td>\n",
       "      <td>-0.086300</td>\n",
       "      <td>0.086300</td>\n",
       "      <td>-0.004199</td>\n",
       "      <td>0.004199</td>\n",
       "      <td>0.137368</td>\n",
       "      <td>-0.137368</td>\n",
       "      <td>-0.084659</td>\n",
       "      <td>-0.164738</td>\n",
       "      <td>...</td>\n",
       "      <td>-0.095625</td>\n",
       "      <td>-0.103585</td>\n",
       "      <td>-0.132371</td>\n",
       "      <td>-0.149843</td>\n",
       "      <td>-0.148978</td>\n",
       "      <td>-0.127520</td>\n",
       "      <td>1.000000</td>\n",
       "      <td>-0.071782</td>\n",
       "      <td>-0.046760</td>\n",
       "      <td>-0.027007</td>\n",
       "    </tr>\n",
       "    <tr>\n",
       "      <th>Resource Allocation_8.0</th>\n",
       "      <td>0.282117</td>\n",
       "      <td>0.324734</td>\n",
       "      <td>-0.051776</td>\n",
       "      <td>0.051776</td>\n",
       "      <td>-0.003695</td>\n",
       "      <td>0.003695</td>\n",
       "      <td>0.114401</td>\n",
       "      <td>-0.114401</td>\n",
       "      <td>-0.060494</td>\n",
       "      <td>-0.117715</td>\n",
       "      <td>...</td>\n",
       "      <td>-0.068330</td>\n",
       "      <td>-0.074017</td>\n",
       "      <td>-0.094587</td>\n",
       "      <td>-0.107071</td>\n",
       "      <td>-0.106454</td>\n",
       "      <td>-0.091120</td>\n",
       "      <td>-0.071782</td>\n",
       "      <td>1.000000</td>\n",
       "      <td>-0.033413</td>\n",
       "      <td>-0.019298</td>\n",
       "    </tr>\n",
       "    <tr>\n",
       "      <th>Resource Allocation_9.0</th>\n",
       "      <td>0.233845</td>\n",
       "      <td>0.281336</td>\n",
       "      <td>-0.028816</td>\n",
       "      <td>0.028816</td>\n",
       "      <td>0.002608</td>\n",
       "      <td>-0.002608</td>\n",
       "      <td>0.064024</td>\n",
       "      <td>-0.064024</td>\n",
       "      <td>-0.039407</td>\n",
       "      <td>-0.076682</td>\n",
       "      <td>...</td>\n",
       "      <td>-0.044511</td>\n",
       "      <td>-0.048216</td>\n",
       "      <td>-0.061615</td>\n",
       "      <td>-0.069748</td>\n",
       "      <td>-0.069346</td>\n",
       "      <td>-0.059357</td>\n",
       "      <td>-0.046760</td>\n",
       "      <td>-0.033413</td>\n",
       "      <td>1.000000</td>\n",
       "      <td>-0.012571</td>\n",
       "    </tr>\n",
       "    <tr>\n",
       "      <th>Resource Allocation_10.0</th>\n",
       "      <td>0.153993</td>\n",
       "      <td>0.192918</td>\n",
       "      <td>-0.013061</td>\n",
       "      <td>0.013061</td>\n",
       "      <td>-0.000331</td>\n",
       "      <td>0.000331</td>\n",
       "      <td>0.043756</td>\n",
       "      <td>-0.043756</td>\n",
       "      <td>-0.022760</td>\n",
       "      <td>-0.044288</td>\n",
       "      <td>...</td>\n",
       "      <td>-0.025708</td>\n",
       "      <td>-0.027848</td>\n",
       "      <td>-0.035587</td>\n",
       "      <td>-0.040284</td>\n",
       "      <td>-0.040051</td>\n",
       "      <td>-0.034283</td>\n",
       "      <td>-0.027007</td>\n",
       "      <td>-0.019298</td>\n",
       "      <td>-0.012571</td>\n",
       "      <td>1.000000</td>\n",
       "    </tr>\n",
       "  </tbody>\n",
       "</table>\n",
       "<p>24 rows × 24 columns</p>\n",
       "</div>"
      ],
      "text/plain": [
       "                          Mental Fatigue Score  Burn Rate  Gender_Female  \\\n",
       "Mental Fatigue Score                  1.000000   0.944389      -0.145760   \n",
       "Burn Rate                             0.944389   1.000000      -0.156577   \n",
       "Gender_Female                        -0.145760  -0.156577       1.000000   \n",
       "Gender_Male                           0.145760   0.156577      -1.000000   \n",
       "Company Type_Product                 -0.004697  -0.005904      -0.009289   \n",
       "Company Type_Service                  0.004697   0.005904       0.009289   \n",
       "WFH Setup Available_No                0.277683   0.307168      -0.073718   \n",
       "WFH Setup Available_Yes              -0.277683  -0.307168       0.073718   \n",
       "Designation_0.0                      -0.430462  -0.406542       0.049207   \n",
       "Designation_1.0                      -0.348857  -0.378232       0.068400   \n",
       "Designation_2.0                      -0.022060  -0.057222       0.004775   \n",
       "Designation_3.0                       0.278458   0.281395      -0.033115   \n",
       "Designation_4.0                       0.356810   0.405504      -0.083662   \n",
       "Designation_5.0                       0.219247   0.268975      -0.017644   \n",
       "Resource Allocation_1.0              -0.510675  -0.478655       0.055617   \n",
       "Resource Allocation_2.0              -0.310490  -0.327562       0.049019   \n",
       "Resource Allocation_3.0              -0.199543  -0.237767       0.053723   \n",
       "Resource Allocation_4.0              -0.043316  -0.080415       0.044721   \n",
       "Resource Allocation_5.0               0.113096   0.095773      -0.005817   \n",
       "Resource Allocation_6.0               0.245869   0.252224      -0.065624   \n",
       "Resource Allocation_7.0               0.292871   0.324994      -0.086300   \n",
       "Resource Allocation_8.0               0.282117   0.324734      -0.051776   \n",
       "Resource Allocation_9.0               0.233845   0.281336      -0.028816   \n",
       "Resource Allocation_10.0              0.153993   0.192918      -0.013061   \n",
       "\n",
       "                          Gender_Male  Company Type_Product  \\\n",
       "Mental Fatigue Score         0.145760             -0.004697   \n",
       "Burn Rate                    0.156577             -0.005904   \n",
       "Gender_Female               -1.000000             -0.009289   \n",
       "Gender_Male                  1.000000              0.009289   \n",
       "Company Type_Product         0.009289              1.000000   \n",
       "Company Type_Service        -0.009289             -1.000000   \n",
       "WFH Setup Available_No       0.073718             -0.000756   \n",
       "WFH Setup Available_Yes     -0.073718              0.000756   \n",
       "Designation_0.0             -0.049207              0.015760   \n",
       "Designation_1.0             -0.068400             -0.003222   \n",
       "Designation_2.0             -0.004775             -0.002075   \n",
       "Designation_3.0              0.033115              0.001014   \n",
       "Designation_4.0              0.083662             -0.007010   \n",
       "Designation_5.0              0.017644              0.000518   \n",
       "Resource Allocation_1.0     -0.055617              0.010516   \n",
       "Resource Allocation_2.0     -0.049019              0.004151   \n",
       "Resource Allocation_3.0     -0.053723             -0.005380   \n",
       "Resource Allocation_4.0     -0.044721             -0.006169   \n",
       "Resource Allocation_5.0      0.005817              0.002932   \n",
       "Resource Allocation_6.0      0.065624              0.001996   \n",
       "Resource Allocation_7.0      0.086300             -0.004199   \n",
       "Resource Allocation_8.0      0.051776             -0.003695   \n",
       "Resource Allocation_9.0      0.028816              0.002608   \n",
       "Resource Allocation_10.0     0.013061             -0.000331   \n",
       "\n",
       "                          Company Type_Service  WFH Setup Available_No  \\\n",
       "Mental Fatigue Score                  0.004697                0.277683   \n",
       "Burn Rate                             0.005904                0.307168   \n",
       "Gender_Female                         0.009289               -0.073718   \n",
       "Gender_Male                          -0.009289                0.073718   \n",
       "Company Type_Product                 -1.000000               -0.000756   \n",
       "Company Type_Service                  1.000000                0.000756   \n",
       "WFH Setup Available_No                0.000756                1.000000   \n",
       "WFH Setup Available_Yes              -0.000756               -1.000000   \n",
       "Designation_0.0                      -0.015760               -0.084432   \n",
       "Designation_1.0                       0.003222               -0.150240   \n",
       "Designation_2.0                       0.002075               -0.028441   \n",
       "Designation_3.0                      -0.001014                0.092112   \n",
       "Designation_4.0                       0.007010                0.154893   \n",
       "Designation_5.0                      -0.000518                0.060881   \n",
       "Resource Allocation_1.0              -0.010516               -0.089831   \n",
       "Resource Allocation_2.0              -0.004151               -0.113694   \n",
       "Resource Allocation_3.0               0.005380               -0.129992   \n",
       "Resource Allocation_4.0               0.006169               -0.090977   \n",
       "Resource Allocation_5.0              -0.002932                0.039808   \n",
       "Resource Allocation_6.0              -0.001996                0.136633   \n",
       "Resource Allocation_7.0               0.004199                0.137368   \n",
       "Resource Allocation_8.0               0.003695                0.114401   \n",
       "Resource Allocation_9.0              -0.002608                0.064024   \n",
       "Resource Allocation_10.0              0.000331                0.043756   \n",
       "\n",
       "                          WFH Setup Available_Yes  Designation_0.0  \\\n",
       "Mental Fatigue Score                    -0.277683        -0.430462   \n",
       "Burn Rate                               -0.307168        -0.406542   \n",
       "Gender_Female                            0.073718         0.049207   \n",
       "Gender_Male                             -0.073718        -0.049207   \n",
       "Company Type_Product                     0.000756         0.015760   \n",
       "Company Type_Service                    -0.000756        -0.015760   \n",
       "WFH Setup Available_No                  -1.000000        -0.084432   \n",
       "WFH Setup Available_Yes                  1.000000         0.084432   \n",
       "Designation_0.0                          0.084432         1.000000   \n",
       "Designation_1.0                          0.150240        -0.138833   \n",
       "Designation_2.0                          0.028441        -0.189270   \n",
       "Designation_3.0                         -0.092112        -0.160245   \n",
       "Designation_4.0                         -0.154893        -0.091359   \n",
       "Designation_5.0                         -0.060881        -0.035181   \n",
       "Resource Allocation_1.0                  0.089831         0.700411   \n",
       "Resource Allocation_2.0                  0.113694         0.073455   \n",
       "Resource Allocation_3.0                  0.129992        -0.101242   \n",
       "Resource Allocation_4.0                  0.090977        -0.126280   \n",
       "Resource Allocation_5.0                 -0.039808        -0.125551   \n",
       "Resource Allocation_6.0                 -0.136633        -0.107467   \n",
       "Resource Allocation_7.0                 -0.137368        -0.084659   \n",
       "Resource Allocation_8.0                 -0.114401        -0.060494   \n",
       "Resource Allocation_9.0                 -0.064024        -0.039407   \n",
       "Resource Allocation_10.0                -0.043756        -0.022760   \n",
       "\n",
       "                          Designation_1.0  ...  Resource Allocation_1.0  \\\n",
       "Mental Fatigue Score            -0.348857  ...                -0.510675   \n",
       "Burn Rate                       -0.378232  ...                -0.478655   \n",
       "Gender_Female                    0.068400  ...                 0.055617   \n",
       "Gender_Male                     -0.068400  ...                -0.055617   \n",
       "Company Type_Product            -0.003222  ...                 0.010516   \n",
       "Company Type_Service             0.003222  ...                -0.010516   \n",
       "WFH Setup Available_No          -0.150240  ...                -0.089831   \n",
       "WFH Setup Available_Yes          0.150240  ...                 0.089831   \n",
       "Designation_0.0                 -0.138833  ...                 0.700411   \n",
       "Designation_1.0                  1.000000  ...                 0.099878   \n",
       "Designation_2.0                 -0.368301  ...                -0.209662   \n",
       "Designation_3.0                 -0.311821  ...                -0.181001   \n",
       "Designation_4.0                 -0.177776  ...                -0.103193   \n",
       "Designation_5.0                 -0.068459  ...                -0.039738   \n",
       "Resource Allocation_1.0          0.099878  ...                 1.000000   \n",
       "Resource Allocation_2.0          0.402632  ...                -0.098603   \n",
       "Resource Allocation_3.0          0.317436  ...                -0.126006   \n",
       "Resource Allocation_4.0         -0.032085  ...                -0.142637   \n",
       "Resource Allocation_5.0         -0.225872  ...                -0.141814   \n",
       "Resource Allocation_6.0         -0.209121  ...                -0.121387   \n",
       "Resource Allocation_7.0         -0.164738  ...                -0.095625   \n",
       "Resource Allocation_8.0         -0.117715  ...                -0.068330   \n",
       "Resource Allocation_9.0         -0.076682  ...                -0.044511   \n",
       "Resource Allocation_10.0        -0.044288  ...                -0.025708   \n",
       "\n",
       "                          Resource Allocation_2.0  Resource Allocation_3.0  \\\n",
       "Mental Fatigue Score                    -0.310490                -0.199543   \n",
       "Burn Rate                               -0.327562                -0.237767   \n",
       "Gender_Female                            0.049019                 0.053723   \n",
       "Gender_Male                             -0.049019                -0.053723   \n",
       "Company Type_Product                     0.004151                -0.005380   \n",
       "Company Type_Service                    -0.004151                 0.005380   \n",
       "WFH Setup Available_No                  -0.113694                -0.129992   \n",
       "WFH Setup Available_Yes                  0.113694                 0.129992   \n",
       "Designation_0.0                          0.073455                -0.101242   \n",
       "Designation_1.0                          0.402632                 0.317436   \n",
       "Designation_2.0                         -0.120362                 0.116108   \n",
       "Designation_3.0                         -0.196068                -0.246098   \n",
       "Designation_4.0                         -0.111783                -0.142848   \n",
       "Designation_5.0                         -0.043046                -0.055009   \n",
       "Resource Allocation_1.0                 -0.098603                -0.126006   \n",
       "Resource Allocation_2.0                  1.000000                -0.136494   \n",
       "Resource Allocation_3.0                 -0.136494                 1.000000   \n",
       "Resource Allocation_4.0                 -0.154510                -0.197449   \n",
       "Resource Allocation_5.0                 -0.153618                -0.196310   \n",
       "Resource Allocation_6.0                 -0.131492                -0.168034   \n",
       "Resource Allocation_7.0                 -0.103585                -0.132371   \n",
       "Resource Allocation_8.0                 -0.074017                -0.094587   \n",
       "Resource Allocation_9.0                 -0.048216                -0.061615   \n",
       "Resource Allocation_10.0                -0.027848                -0.035587   \n",
       "\n",
       "                          Resource Allocation_4.0  Resource Allocation_5.0  \\\n",
       "Mental Fatigue Score                    -0.043316                 0.113096   \n",
       "Burn Rate                               -0.080415                 0.095773   \n",
       "Gender_Female                            0.044721                -0.005817   \n",
       "Gender_Male                             -0.044721                 0.005817   \n",
       "Company Type_Product                    -0.006169                 0.002932   \n",
       "Company Type_Service                     0.006169                -0.002932   \n",
       "WFH Setup Available_No                  -0.090977                 0.039808   \n",
       "WFH Setup Available_Yes                  0.090977                -0.039808   \n",
       "Designation_0.0                         -0.126280                -0.125551   \n",
       "Designation_1.0                         -0.032085                -0.225872   \n",
       "Designation_2.0                          0.328703                 0.185577   \n",
       "Designation_3.0                         -0.119846                 0.208945   \n",
       "Designation_4.0                         -0.161702                -0.156662   \n",
       "Designation_5.0                         -0.062269                -0.061910   \n",
       "Resource Allocation_1.0                 -0.142637                -0.141814   \n",
       "Resource Allocation_2.0                 -0.154510                -0.153618   \n",
       "Resource Allocation_3.0                 -0.197449                -0.196310   \n",
       "Resource Allocation_4.0                  1.000000                -0.222220   \n",
       "Resource Allocation_5.0                 -0.222220                 1.000000   \n",
       "Resource Allocation_6.0                 -0.190212                -0.189115   \n",
       "Resource Allocation_7.0                 -0.149843                -0.148978   \n",
       "Resource Allocation_8.0                 -0.107071                -0.106454   \n",
       "Resource Allocation_9.0                 -0.069748                -0.069346   \n",
       "Resource Allocation_10.0                -0.040284                -0.040051   \n",
       "\n",
       "                          Resource Allocation_6.0  Resource Allocation_7.0  \\\n",
       "Mental Fatigue Score                     0.245869                 0.292871   \n",
       "Burn Rate                                0.252224                 0.324994   \n",
       "Gender_Female                           -0.065624                -0.086300   \n",
       "Gender_Male                              0.065624                 0.086300   \n",
       "Company Type_Product                     0.001996                -0.004199   \n",
       "Company Type_Service                    -0.001996                 0.004199   \n",
       "WFH Setup Available_No                   0.136633                 0.137368   \n",
       "WFH Setup Available_Yes                 -0.136633                -0.137368   \n",
       "Designation_0.0                         -0.107467                -0.084659   \n",
       "Designation_1.0                         -0.209121                -0.164738   \n",
       "Designation_2.0                         -0.092451                -0.206374   \n",
       "Designation_3.0                          0.363234                 0.194273   \n",
       "Designation_4.0                          0.008492                 0.344778   \n",
       "Designation_5.0                         -0.052993                -0.041746   \n",
       "Resource Allocation_1.0                 -0.121387                -0.095625   \n",
       "Resource Allocation_2.0                 -0.131492                -0.103585   \n",
       "Resource Allocation_3.0                 -0.168034                -0.132371   \n",
       "Resource Allocation_4.0                 -0.190212                -0.149843   \n",
       "Resource Allocation_5.0                 -0.189115                -0.148978   \n",
       "Resource Allocation_6.0                  1.000000                -0.127520   \n",
       "Resource Allocation_7.0                 -0.127520                 1.000000   \n",
       "Resource Allocation_8.0                 -0.091120                -0.071782   \n",
       "Resource Allocation_9.0                 -0.059357                -0.046760   \n",
       "Resource Allocation_10.0                -0.034283                -0.027007   \n",
       "\n",
       "                          Resource Allocation_8.0  Resource Allocation_9.0  \\\n",
       "Mental Fatigue Score                     0.282117                 0.233845   \n",
       "Burn Rate                                0.324734                 0.281336   \n",
       "Gender_Female                           -0.051776                -0.028816   \n",
       "Gender_Male                              0.051776                 0.028816   \n",
       "Company Type_Product                    -0.003695                 0.002608   \n",
       "Company Type_Service                     0.003695                -0.002608   \n",
       "WFH Setup Available_No                   0.114401                 0.064024   \n",
       "WFH Setup Available_Yes                 -0.114401                -0.064024   \n",
       "Designation_0.0                         -0.060494                -0.039407   \n",
       "Designation_1.0                         -0.117715                -0.076682   \n",
       "Designation_2.0                         -0.160480                -0.104539   \n",
       "Designation_3.0                         -0.019270                -0.082596   \n",
       "Designation_4.0                          0.451766                 0.235454   \n",
       "Designation_5.0                          0.070462                 0.423722   \n",
       "Resource Allocation_1.0                 -0.068330                -0.044511   \n",
       "Resource Allocation_2.0                 -0.074017                -0.048216   \n",
       "Resource Allocation_3.0                 -0.094587                -0.061615   \n",
       "Resource Allocation_4.0                 -0.107071                -0.069748   \n",
       "Resource Allocation_5.0                 -0.106454                -0.069346   \n",
       "Resource Allocation_6.0                 -0.091120                -0.059357   \n",
       "Resource Allocation_7.0                 -0.071782                -0.046760   \n",
       "Resource Allocation_8.0                  1.000000                -0.033413   \n",
       "Resource Allocation_9.0                 -0.033413                 1.000000   \n",
       "Resource Allocation_10.0                -0.019298                -0.012571   \n",
       "\n",
       "                          Resource Allocation_10.0  \n",
       "Mental Fatigue Score                      0.153993  \n",
       "Burn Rate                                 0.192918  \n",
       "Gender_Female                            -0.013061  \n",
       "Gender_Male                               0.013061  \n",
       "Company Type_Product                     -0.000331  \n",
       "Company Type_Service                      0.000331  \n",
       "WFH Setup Available_No                    0.043756  \n",
       "WFH Setup Available_Yes                  -0.043756  \n",
       "Designation_0.0                          -0.022760  \n",
       "Designation_1.0                          -0.044288  \n",
       "Designation_2.0                          -0.060378  \n",
       "Designation_3.0                          -0.051119  \n",
       "Designation_4.0                           0.018618  \n",
       "Designation_5.0                           0.533965  \n",
       "Resource Allocation_1.0                  -0.025708  \n",
       "Resource Allocation_2.0                  -0.027848  \n",
       "Resource Allocation_3.0                  -0.035587  \n",
       "Resource Allocation_4.0                  -0.040284  \n",
       "Resource Allocation_5.0                  -0.040051  \n",
       "Resource Allocation_6.0                  -0.034283  \n",
       "Resource Allocation_7.0                  -0.027007  \n",
       "Resource Allocation_8.0                  -0.019298  \n",
       "Resource Allocation_9.0                  -0.012571  \n",
       "Resource Allocation_10.0                  1.000000  \n",
       "\n",
       "[24 rows x 24 columns]"
      ]
     },
     "execution_count": 42,
     "metadata": {},
     "output_type": "execute_result"
    }
   ],
   "source": [
    "cor"
   ]
  },
  {
   "cell_type": "code",
   "execution_count": 43,
   "metadata": {},
   "outputs": [],
   "source": [
    "# Drop column that has NaN in the corr matrix\n",
    "\n",
    "#df.drop('Designation_0.0',axis=1,inplace=True)\n",
    "#df.drop('Designation_4.0',axis=1,inplace=True)\n",
    "#df.drop('Designation_5.0',axis=1,inplace=True)"
   ]
  },
  {
   "cell_type": "code",
   "execution_count": 44,
   "metadata": {},
   "outputs": [
    {
     "data": {
      "text/html": [
       "<div>\n",
       "<style scoped>\n",
       "    .dataframe tbody tr th:only-of-type {\n",
       "        vertical-align: middle;\n",
       "    }\n",
       "\n",
       "    .dataframe tbody tr th {\n",
       "        vertical-align: top;\n",
       "    }\n",
       "\n",
       "    .dataframe thead th {\n",
       "        text-align: right;\n",
       "    }\n",
       "</style>\n",
       "<table border=\"1\" class=\"dataframe\">\n",
       "  <thead>\n",
       "    <tr style=\"text-align: right;\">\n",
       "      <th></th>\n",
       "      <th>Mental Fatigue Score</th>\n",
       "      <th>Burn Rate</th>\n",
       "      <th>Gender_Female</th>\n",
       "      <th>Gender_Male</th>\n",
       "      <th>Company Type_Product</th>\n",
       "      <th>Company Type_Service</th>\n",
       "      <th>WFH Setup Available_No</th>\n",
       "      <th>WFH Setup Available_Yes</th>\n",
       "      <th>Designation_0.0</th>\n",
       "      <th>Designation_1.0</th>\n",
       "      <th>...</th>\n",
       "      <th>Resource Allocation_1.0</th>\n",
       "      <th>Resource Allocation_2.0</th>\n",
       "      <th>Resource Allocation_3.0</th>\n",
       "      <th>Resource Allocation_4.0</th>\n",
       "      <th>Resource Allocation_5.0</th>\n",
       "      <th>Resource Allocation_6.0</th>\n",
       "      <th>Resource Allocation_7.0</th>\n",
       "      <th>Resource Allocation_8.0</th>\n",
       "      <th>Resource Allocation_9.0</th>\n",
       "      <th>Resource Allocation_10.0</th>\n",
       "    </tr>\n",
       "  </thead>\n",
       "  <tbody>\n",
       "    <tr>\n",
       "      <th>0</th>\n",
       "      <td>3.8</td>\n",
       "      <td>0.16</td>\n",
       "      <td>1</td>\n",
       "      <td>0</td>\n",
       "      <td>0</td>\n",
       "      <td>1</td>\n",
       "      <td>1</td>\n",
       "      <td>0</td>\n",
       "      <td>0</td>\n",
       "      <td>0</td>\n",
       "      <td>...</td>\n",
       "      <td>0</td>\n",
       "      <td>0</td>\n",
       "      <td>1</td>\n",
       "      <td>0</td>\n",
       "      <td>0</td>\n",
       "      <td>0</td>\n",
       "      <td>0</td>\n",
       "      <td>0</td>\n",
       "      <td>0</td>\n",
       "      <td>0</td>\n",
       "    </tr>\n",
       "    <tr>\n",
       "      <th>1</th>\n",
       "      <td>5.0</td>\n",
       "      <td>0.36</td>\n",
       "      <td>0</td>\n",
       "      <td>1</td>\n",
       "      <td>0</td>\n",
       "      <td>1</td>\n",
       "      <td>0</td>\n",
       "      <td>1</td>\n",
       "      <td>0</td>\n",
       "      <td>1</td>\n",
       "      <td>...</td>\n",
       "      <td>0</td>\n",
       "      <td>1</td>\n",
       "      <td>0</td>\n",
       "      <td>0</td>\n",
       "      <td>0</td>\n",
       "      <td>0</td>\n",
       "      <td>0</td>\n",
       "      <td>0</td>\n",
       "      <td>0</td>\n",
       "      <td>0</td>\n",
       "    </tr>\n",
       "  </tbody>\n",
       "</table>\n",
       "<p>2 rows × 24 columns</p>\n",
       "</div>"
      ],
      "text/plain": [
       "   Mental Fatigue Score  Burn Rate  Gender_Female  Gender_Male  \\\n",
       "0                   3.8       0.16              1            0   \n",
       "1                   5.0       0.36              0            1   \n",
       "\n",
       "   Company Type_Product  Company Type_Service  WFH Setup Available_No  \\\n",
       "0                     0                     1                       1   \n",
       "1                     0                     1                       0   \n",
       "\n",
       "   WFH Setup Available_Yes  Designation_0.0  Designation_1.0  ...  \\\n",
       "0                        0                0                0  ...   \n",
       "1                        1                0                1  ...   \n",
       "\n",
       "   Resource Allocation_1.0  Resource Allocation_2.0  Resource Allocation_3.0  \\\n",
       "0                        0                        0                        1   \n",
       "1                        0                        1                        0   \n",
       "\n",
       "   Resource Allocation_4.0  Resource Allocation_5.0  Resource Allocation_6.0  \\\n",
       "0                        0                        0                        0   \n",
       "1                        0                        0                        0   \n",
       "\n",
       "   Resource Allocation_7.0  Resource Allocation_8.0  Resource Allocation_9.0  \\\n",
       "0                        0                        0                        0   \n",
       "1                        0                        0                        0   \n",
       "\n",
       "   Resource Allocation_10.0  \n",
       "0                         0  \n",
       "1                         0  \n",
       "\n",
       "[2 rows x 24 columns]"
      ]
     },
     "execution_count": 44,
     "metadata": {},
     "output_type": "execute_result"
    }
   ],
   "source": [
    "df.head(2)"
   ]
  },
  {
   "cell_type": "code",
   "execution_count": 45,
   "metadata": {},
   "outputs": [],
   "source": [
    "#Normalize the columns\n",
    "\n",
    "#max_value = df['Employment Duration'].max()\n",
    "#min_value = df['Employment Duration'].min()\n",
    "#df['Employment Duration'] = (df['Employment Duration'] - min_value) / (max_value - min_value)\n",
    "\n",
    "#max_value = df['Mental Fatigue Score'].max()\n",
    "#min_value = df['Mental Fatigue Score'].min()\n",
    "#df['Mental Fatigue Score'] = (df['Mental Fatigue Score'] - min_value) / (max_value - min_value)\n",
    "\n",
    "# Dropping for beter accuracy, since company type has minimal correlation to burn rate\n",
    "df.drop('Company Type_Product',axis=1,inplace=True)\n",
    "df.drop('Company Type_Service',axis=1,inplace=True)"
   ]
  },
  {
   "cell_type": "code",
   "execution_count": 46,
   "metadata": {},
   "outputs": [],
   "source": [
    "#Save the final dataframe for modelling\n",
    "df.to_csv(\"C:\\Data Science\\Competitions\\Burnout_Rate_Prediction\\dataset\\\\df_final.csv\", index=False)"
   ]
  },
  {
   "cell_type": "markdown",
   "metadata": {},
   "source": [
    "#### Model Building"
   ]
  },
  {
   "cell_type": "code",
   "execution_count": 47,
   "metadata": {},
   "outputs": [
    {
     "name": "stdout",
     "output_type": "stream",
     "text": [
      "18585\n",
      "18585\n",
      "5\n",
      "5\n",
      "(18590, 22)\n"
     ]
    }
   ],
   "source": [
    "#Splitting the data\n",
    "feature_columns = df.columns.difference( ['Burn Rate'] )\n",
    "train_X, test_X, train_y, test_y = train_test_split(df[feature_columns],\n",
    "                                                  df['Burn Rate'],\n",
    "                                                  test_size=0.00025, #0.001\n",
    "                                                  random_state=125)\n",
    "print (len( train_X ))\n",
    "print (len (train_y))\n",
    "print (len( test_X))\n",
    "print (len( test_y))\n",
    "print (df.shape)"
   ]
  },
  {
   "cell_type": "markdown",
   "metadata": {},
   "source": [
    "#### Linear Regression"
   ]
  },
  {
   "cell_type": "code",
   "execution_count": 48,
   "metadata": {},
   "outputs": [
    {
     "name": "stdout",
     "output_type": "stream",
     "text": [
      "score:92.84 percent\n",
      "Slope: [ 7.97036662e+10  7.97036662e+10  7.97036662e+10  7.97036662e+10\n",
      "  7.97036662e+10  7.97036662e+10  5.23665522e+11  5.23665522e+11\n",
      "  7.55558816e-02 -3.86324349e+11 -3.86324349e+11 -3.86324349e+11\n",
      " -3.86324349e+11 -3.86324349e+11 -3.86324349e+11 -3.86324349e+11\n",
      " -3.86324349e+11 -3.86324349e+11 -3.86324349e+11 -3.31820978e+11\n",
      " -3.31820978e+11]\n",
      "Intercept: 114776138556.32187\n"
     ]
    }
   ],
   "source": [
    "# Method 1\n",
    "clf_linear= LinearRegression()\n",
    "clf_linear.fit(train_X, train_y)\n",
    "y_pred_linear=clf_linear.predict(test_X)\n",
    "\n",
    "#Test Data\n",
    "acc_linear=round(clf_linear.score(test_X,test_y) * 100, 2) \n",
    "print ('score:'+str(acc_linear) + ' percent') \n",
    "\n",
    "# Printing values\n",
    "print('Slope:' ,clf_linear.coef_)\n",
    "print('Intercept:', clf_linear.intercept_)"
   ]
  },
  {
   "cell_type": "code",
   "execution_count": 49,
   "metadata": {},
   "outputs": [
    {
     "name": "stdout",
     "output_type": "stream",
     "text": [
      "MSE:0.002116129800379277\n",
      "R Sqr:0.9283736189960982\n"
     ]
    }
   ],
   "source": [
    "print ('MSE:{}'.format(mse(y_pred_linear,test_y)))\n",
    "print ('R Sqr:{}'.format(r2(test_y,y_pred_linear)))"
   ]
  },
  {
   "cell_type": "markdown",
   "metadata": {},
   "source": [
    "#### Random Forest Regressor"
   ]
  },
  {
   "cell_type": "code",
   "execution_count": 50,
   "metadata": {},
   "outputs": [
    {
     "name": "stdout",
     "output_type": "stream",
     "text": [
      "90.65 percent\n"
     ]
    }
   ],
   "source": [
    "clf_rf= RandomForestRegressor(n_estimators=200)\n",
    "clf_rf.fit(train_X, train_y)\n",
    "y_pred_rf= clf_rf.predict(test_X)\n",
    "acc_rf = round( clf_rf.score(test_X,test_y) * 100, 2)\n",
    "print (str(acc_rf) + ' percent')"
   ]
  },
  {
   "cell_type": "code",
   "execution_count": 51,
   "metadata": {},
   "outputs": [
    {
     "name": "stdout",
     "output_type": "stream",
     "text": [
      "MSE:0.0027611916061267513\n",
      "R Sqr:0.9065396829770258\n"
     ]
    }
   ],
   "source": [
    "print ('MSE:{}'.format(mse(y_pred_rf,test_y)))\n",
    "print ('R Sqr:{}'.format(r2(test_y,y_pred_rf)))"
   ]
  },
  {
   "cell_type": "markdown",
   "metadata": {},
   "source": [
    "#### Bagging Regressor"
   ]
  },
  {
   "cell_type": "code",
   "execution_count": 52,
   "metadata": {},
   "outputs": [
    {
     "name": "stdout",
     "output_type": "stream",
     "text": [
      "91.36 percent\n"
     ]
    }
   ],
   "source": [
    "model_bg = BaggingRegressor(tree.DecisionTreeRegressor(random_state=1))\n",
    "model_bg.fit(train_X, train_y)\n",
    "y_pred_bg = model_bg.predict(test_X)\n",
    "acc_bg = round( model_bg.score(test_X, test_y) * 100, 2)\n",
    "print (str(acc_bg) + ' percent')"
   ]
  },
  {
   "cell_type": "code",
   "execution_count": 53,
   "metadata": {},
   "outputs": [
    {
     "name": "stdout",
     "output_type": "stream",
     "text": [
      "MSE:0.0025525968937270653\n",
      "R Sqr:0.9136001592970802\n"
     ]
    }
   ],
   "source": [
    "print ('MSE:{}'.format(mse(y_pred_bg,test_y)))\n",
    "print ('R Sqr:{}'.format(r2(test_y,y_pred_bg)))"
   ]
  },
  {
   "cell_type": "markdown",
   "metadata": {},
   "source": [
    "#### Decision Tree Regressor"
   ]
  },
  {
   "cell_type": "code",
   "execution_count": 54,
   "metadata": {},
   "outputs": [
    {
     "name": "stdout",
     "output_type": "stream",
     "text": [
      "90.93 percent\n"
     ]
    }
   ],
   "source": [
    "clf_dt=DecisionTreeRegressor()\n",
    "clf_dt.fit(train_X, train_y)\n",
    "y_pred_dt= clf_dt.predict(test_X)\n",
    "acc_dt = round( clf_dt.score(test_X, test_y) * 100, 2)\n",
    "print (str(acc_dt) + ' percent')"
   ]
  },
  {
   "cell_type": "code",
   "execution_count": 55,
   "metadata": {},
   "outputs": [
    {
     "name": "stdout",
     "output_type": "stream",
     "text": [
      "MSE:0.0026794980319699907\n",
      "R Sqr:0.9093048323866101\n"
     ]
    }
   ],
   "source": [
    "print ('MSE:{}'.format(mse(y_pred_dt,test_y)))\n",
    "print ('R Sqr:{}'.format(r2(test_y,y_pred_dt)))"
   ]
  },
  {
   "cell_type": "markdown",
   "metadata": {},
   "source": [
    "#### 4. XGBoost Algorithm"
   ]
  },
  {
   "cell_type": "code",
   "execution_count": 56,
   "metadata": {},
   "outputs": [
    {
     "name": "stdout",
     "output_type": "stream",
     "text": [
      "92.24 percent\n"
     ]
    }
   ],
   "source": [
    "# Normal XGBoost with default parameters\n",
    "\n",
    "xgb = xgboost.XGBRegressor()\n",
    "xgb.fit(train_X, train_y)\n",
    "#xgb.fit(df[feature_columns], df['Burn Rate']) # whole dataset\n",
    "y_pred=xgb.predict(test_X)\n",
    "acc_xg = round( xgb.score(test_X, test_y) * 100, 2)\n",
    "print (str(acc_xg) + ' percent')"
   ]
  },
  {
   "cell_type": "markdown",
   "metadata": {},
   "source": [
    "#### Feature Importance - XGBoost"
   ]
  },
  {
   "cell_type": "code",
   "execution_count": 57,
   "metadata": {},
   "outputs": [
    {
     "data": {
      "image/png": "[encoded data removed]",
      "text/plain": [
       "<Figure size 576x684 with 1 Axes>"
      ]
     },
     "metadata": {
      "needs_background": "light"
     },
     "output_type": "display_data"
    },
    {
     "data": {
      "image/png": "[encoded data removed]",
      "text/plain": [
       "<Figure size 576x684 with 2 Axes>"
      ]
     },
     "metadata": {
      "needs_background": "light"
     },
     "output_type": "display_data"
    }
   ],
   "source": [
    "#The third method to compute feature importance in Xgboost is to use SHAP package. \n",
    "#It is model-agnostic and using the Shapley values from game theory to estimate the how does each feature contribute to the prediction.\n",
    "explainer = shap.TreeExplainer(xgb)\n",
    "shap_values = explainer.shap_values(test_X)\n",
    "shap.summary_plot(shap_values, test_X, plot_type=\"bar\")\n",
    "shap.summary_plot(shap_values, test_X)"
   ]
  },
  {
   "cell_type": "code",
   "execution_count": 58,
   "metadata": {},
   "outputs": [],
   "source": [
    "# Hypertune XGBoost\n",
    "# To improve, reduce max depth to 3, increase estimators to 1600 = 89.13%\n",
    "\n",
    "model = xgboost.XGBRegressor()\n",
    "parameters = {'nthread':[4],\n",
    "              'objective':['reg:squarederror'],\n",
    "              'learning_rate': [0.01], \n",
    "              'max_depth': [5],\n",
    "              'min_child_weight': [3],\n",
    "              'subsample': [1],\n",
    "              'colsample_bytree': [1], \n",
    "              'booster' : ['gbtree'],\n",
    "              'n_estimators': [1500]} \n",
    "\n",
    "model = GridSearchCV(model,\n",
    "                        parameters,\n",
    "                        cv = 2,\n",
    "                        n_jobs = 5,\n",
    "                        verbose=False) "
   ]
  },
  {
   "cell_type": "code",
   "execution_count": 59,
   "metadata": {},
   "outputs": [
    {
     "name": "stdout",
     "output_type": "stream",
     "text": [
      "92.94 percent\n"
     ]
    }
   ],
   "source": [
    "model.fit(train_X, train_y)\n",
    "y_pred=model.predict(test_X)\n",
    "acc_xg = round( model.score(test_X, test_y) * 100, 2)\n",
    "print (str(acc_xg) + ' percent')"
   ]
  },
  {
   "cell_type": "code",
   "execution_count": 60,
   "metadata": {},
   "outputs": [
    {
     "name": "stdout",
     "output_type": "stream",
     "text": [
      "MSE:0.0020867261380287452\n",
      "R Sqr:0.9293688688725716\n"
     ]
    }
   ],
   "source": [
    "print ('MSE:{}'.format(mse(y_pred,test_y)))\n",
    "print ('R Sqr:{}'.format(r2(test_y,y_pred)))"
   ]
  },
  {
   "cell_type": "code",
   "execution_count": 61,
   "metadata": {},
   "outputs": [
    {
     "name": "stderr",
     "output_type": "stream",
     "text": [
      "`distplot` is a deprecated function and will be removed in a future version. Please adapt your code to use either `displot` (a figure-level function with similar flexibility) or `histplot` (an axes-level function for histograms).\n",
      "`distplot` is a deprecated function and will be removed in a future version. Please adapt your code to use either `displot` (a figure-level function with similar flexibility) or `histplot` (an axes-level function for histograms).\n"
     ]
    },
    {
     "data": {
      "image/png": "[encoded data removed]",
      "text/plain": [
       "<Figure size 1080x720 with 1 Axes>"
      ]
     },
     "metadata": {
      "needs_background": "light"
     },
     "output_type": "display_data"
    }
   ],
   "source": [
    "# Graphically plot the actual and predicted values for XGBoost\n",
    "plt.figure(figsize=(15,10))\n",
    "sns.distplot(y_pred,color=\"Blue\")\n",
    "sns.distplot(test_y,color=\"Orange\")\n",
    "plt.grid()\n",
    "plt.show()"
   ]
  },
  {
   "cell_type": "markdown",
   "metadata": {},
   "source": [
    "#### Gradient Boosting (GBM) Regressor"
   ]
  },
  {
   "cell_type": "code",
   "execution_count": 62,
   "metadata": {},
   "outputs": [
    {
     "name": "stdout",
     "output_type": "stream",
     "text": [
      "78.35 percent\n"
     ]
    }
   ],
   "source": [
    "gbm_model= GradientBoostingRegressor(learning_rate=0.01,random_state=1)\n",
    "gbm_model.fit(train_X, train_y)\n",
    "\n",
    "y_pred=gbm_model.predict(test_X)\n",
    "acc_gbm = round( gbm_model.score(test_X, test_y) * 100, 2)\n",
    "print (str(acc_gbm) + ' percent')"
   ]
  },
  {
   "cell_type": "code",
   "execution_count": 63,
   "metadata": {},
   "outputs": [
    {
     "name": "stdout",
     "output_type": "stream",
     "text": [
      "MSE:0.006396563796598151\n",
      "R Sqr:0.7834902587124916\n"
     ]
    }
   ],
   "source": [
    "print ('MSE:{}'.format(mse(y_pred,test_y)))\n",
    "print ('R Sqr:{}'.format(r2(test_y,y_pred)))"
   ]
  },
  {
   "cell_type": "markdown",
   "metadata": {},
   "source": [
    "#### ADA Boost Regressor"
   ]
  },
  {
   "cell_type": "code",
   "execution_count": 64,
   "metadata": {},
   "outputs": [
    {
     "name": "stdout",
     "output_type": "stream",
     "text": [
      "90.43 percent\n"
     ]
    }
   ],
   "source": [
    "ada_model = AdaBoostRegressor()\n",
    "ada_model.fit(train_X, train_y)\n",
    "#ada_model.score(test_X, test_y)\n",
    "\n",
    "y_pred=ada_model.predict(test_X)\n",
    "acc_abm = round( ada_model.score(test_X, test_y) * 100, 2)\n",
    "print (str(acc_abm) + ' percent')"
   ]
  },
  {
   "cell_type": "code",
   "execution_count": 65,
   "metadata": {},
   "outputs": [
    {
     "name": "stdout",
     "output_type": "stream",
     "text": [
      "MSE:0.0028283467047527655\n",
      "R Sqr:0.9042666292731937\n"
     ]
    }
   ],
   "source": [
    "print ('MSE:{}'.format(mse(y_pred,test_y)))\n",
    "print ('R Sqr:{}'.format(r2(test_y,y_pred)))"
   ]
  },
  {
   "cell_type": "markdown",
   "metadata": {},
   "source": [
    "#### Deep Neural Net Regressor"
   ]
  },
  {
   "cell_type": "code",
   "execution_count": 66,
   "metadata": {},
   "outputs": [],
   "source": [
    "# First install tensorflow and keras\n",
    "# pip install tensorflow==2.2 --user\n",
    "# pip install keras\n",
    "import tensorflow as tf\n",
    "from keras.callbacks import ModelCheckpoint\n",
    "from keras.models import Sequential\n",
    "from keras.layers import Dense, Activation, Flatten"
   ]
  },
  {
   "cell_type": "code",
   "execution_count": 67,
   "metadata": {},
   "outputs": [
    {
     "name": "stdout",
     "output_type": "stream",
     "text": [
      "Model: \"sequential\"\n",
      "_________________________________________________________________\n",
      "Layer (type)                 Output Shape              Param #   \n",
      "=================================================================\n",
      "dense (Dense)                (None, 128)               2816      \n",
      "_________________________________________________________________\n",
      "dense_1 (Dense)              (None, 256)               33024     \n",
      "_________________________________________________________________\n",
      "dense_2 (Dense)              (None, 256)               65792     \n",
      "_________________________________________________________________\n",
      "dense_3 (Dense)              (None, 256)               65792     \n",
      "_________________________________________________________________\n",
      "dense_4 (Dense)              (None, 1)                 257       \n",
      "=================================================================\n",
      "Total params: 167,681\n",
      "Trainable params: 167,681\n",
      "Non-trainable params: 0\n",
      "_________________________________________________________________\n"
     ]
    }
   ],
   "source": [
    "NN_model = Sequential()\n",
    "\n",
    "# The Input Layer :\n",
    "NN_model.add(Dense(128, kernel_initializer='normal',input_dim = train_X.shape[1], activation='relu'))\n",
    "\n",
    "# The Hidden Layers :\n",
    "NN_model.add(Dense(256, kernel_initializer='normal',activation='relu'))\n",
    "NN_model.add(Dense(256, kernel_initializer='normal',activation='relu'))\n",
    "NN_model.add(Dense(256, kernel_initializer='normal',activation='relu'))\n",
    "\n",
    "# The Output Layer :\n",
    "NN_model.add(Dense(1, kernel_initializer='normal',activation='linear'))\n",
    "\n",
    "# Compile the model :\n",
    "NN_model.compile(loss='mean_absolute_error', optimizer='adam', metrics=['mean_absolute_error'])\n",
    "NN_model.summary()"
   ]
  },
  {
   "cell_type": "code",
   "execution_count": 68,
   "metadata": {},
   "outputs": [
    {
     "name": "stdout",
     "output_type": "stream",
     "text": [
      "552/552 [==============================] - 2s 3ms/step - loss: 0.0517 - mean_absolute_error: 0.0517 - val_loss: 0.0467 - val_mean_absolute_error: 0.0467\n"
     ]
    },
    {
     "data": {
      "text/plain": [
       "<tensorflow.python.keras.callbacks.History at 0x267963190f0>"
      ]
     },
     "execution_count": 68,
     "metadata": {},
     "output_type": "execute_result"
    }
   ],
   "source": [
    "# Train the model, can run epochs in multiples of 100\n",
    "# Since we are not using this model, so I have set it to 1\n",
    "NN_model.fit(train_X, train_y, epochs=1, batch_size=32, validation_split = 0.05)"
   ]
  },
  {
   "cell_type": "code",
   "execution_count": 69,
   "metadata": {},
   "outputs": [
    {
     "name": "stdout",
     "output_type": "stream",
     "text": [
      "mean_absolute_error: 3.34%\n"
     ]
    }
   ],
   "source": [
    "# Evaluate the NN model(Test)\n",
    "scores = NN_model.evaluate(test_X, test_y, verbose=0)\n",
    "print(\"%s: %.2f%%\" % (NN_model.metrics_names[1], scores[1]*100))"
   ]
  },
  {
   "cell_type": "code",
   "execution_count": 70,
   "metadata": {},
   "outputs": [
    {
     "name": "stdout",
     "output_type": "stream",
     "text": [
      "mean_absolute_error: 4.49%\n"
     ]
    }
   ],
   "source": [
    "# Evaluate the NN model(Train)\n",
    "scores = NN_model.evaluate(train_X, train_y, verbose=0)\n",
    "print(\"%s: %.2f%%\" % (NN_model.metrics_names[1], scores[1]*100))"
   ]
  },
  {
   "cell_type": "code",
   "execution_count": 71,
   "metadata": {},
   "outputs": [
    {
     "name": "stdout",
     "output_type": "stream",
     "text": [
      "Saved Neural Net model to disk\n"
     ]
    }
   ],
   "source": [
    "# Serialize NN model to JSON\n",
    "NN_model_json = NN_model.to_json()\n",
    "with open(\"C:\\\\Data Science\\\\Competitions\\\\Burnout_Rate_Prediction\\\\dataset\\\\NN_model.json\", \"w\") as json_file:\n",
    "    json_file.write(NN_model_json)\n",
    "# serialize weights to HDF5\n",
    "NN_model.save_weights(\"C:\\\\Data Science\\\\Competitions\\\\Burnout_Rate_Prediction\\\\dataset\\\\NN_model.h5\")\n",
    "print(\"Saved Neural Net model to disk\")"
   ]
  },
  {
   "cell_type": "markdown",
   "metadata": {},
   "source": [
    "#### Comparing Models\n",
    "\n",
    "Let's compare the accuracy score of all the regression models used above.\n"
   ]
  },
  {
   "cell_type": "code",
   "execution_count": 72,
   "metadata": {},
   "outputs": [
    {
     "data": {
      "text/html": [
       "<div>\n",
       "<style scoped>\n",
       "    .dataframe tbody tr th:only-of-type {\n",
       "        vertical-align: middle;\n",
       "    }\n",
       "\n",
       "    .dataframe tbody tr th {\n",
       "        vertical-align: top;\n",
       "    }\n",
       "\n",
       "    .dataframe thead th {\n",
       "        text-align: right;\n",
       "    }\n",
       "</style>\n",
       "<table border=\"1\" class=\"dataframe\">\n",
       "  <thead>\n",
       "    <tr style=\"text-align: right;\">\n",
       "      <th></th>\n",
       "      <th>Model</th>\n",
       "      <th>Score</th>\n",
       "    </tr>\n",
       "  </thead>\n",
       "  <tbody>\n",
       "    <tr>\n",
       "      <th>3</th>\n",
       "      <td>XGBoost</td>\n",
       "      <td>92.94</td>\n",
       "    </tr>\n",
       "    <tr>\n",
       "      <th>0</th>\n",
       "      <td>Linear Regression</td>\n",
       "      <td>92.84</td>\n",
       "    </tr>\n",
       "    <tr>\n",
       "      <th>6</th>\n",
       "      <td>Bagging Regressor</td>\n",
       "      <td>91.36</td>\n",
       "    </tr>\n",
       "    <tr>\n",
       "      <th>1</th>\n",
       "      <td>Decision Tree</td>\n",
       "      <td>90.93</td>\n",
       "    </tr>\n",
       "    <tr>\n",
       "      <th>2</th>\n",
       "      <td>Random Forest</td>\n",
       "      <td>90.65</td>\n",
       "    </tr>\n",
       "    <tr>\n",
       "      <th>5</th>\n",
       "      <td>ADA Boost</td>\n",
       "      <td>90.43</td>\n",
       "    </tr>\n",
       "    <tr>\n",
       "      <th>4</th>\n",
       "      <td>Gradient Boosting</td>\n",
       "      <td>78.35</td>\n",
       "    </tr>\n",
       "  </tbody>\n",
       "</table>\n",
       "</div>"
      ],
      "text/plain": [
       "               Model  Score\n",
       "3            XGBoost  92.94\n",
       "0  Linear Regression  92.84\n",
       "6  Bagging Regressor  91.36\n",
       "1      Decision Tree  90.93\n",
       "2      Random Forest  90.65\n",
       "5          ADA Boost  90.43\n",
       "4  Gradient Boosting  78.35"
      ]
     },
     "execution_count": 72,
     "metadata": {},
     "output_type": "execute_result"
    }
   ],
   "source": [
    "models = pd.DataFrame({\n",
    "    'Model': ['Linear Regression','Decision Tree', 'Random Forest', \"XGBoost\", \"Gradient Boosting\", \"ADA Boost\", \"Bagging Regressor\"],    \n",
    "    'Score': [acc_linear,acc_dt,acc_rf,acc_xg,acc_gbm,acc_abm,acc_bg]\n",
    "    })\n",
    "\n",
    "models.sort_values(by='Score', ascending=False)"
   ]
  },
  {
   "cell_type": "code",
   "execution_count": 73,
   "metadata": {},
   "outputs": [],
   "source": [
    "# Save the model to file in the current working directory\n",
    "\n",
    "Pkl_Filename = \"C:\\\\Data Science\\\\Competitions\\\\Burnout_Rate_Prediction\\\\dataset\\\\xgb_model.pkl\"  \n",
    "\n",
    "with open(Pkl_Filename, 'wb') as file:  \n",
    "    pickle.dump(model, file)"
   ]
  },
  {
   "cell_type": "markdown",
   "metadata": {},
   "source": [
    "#### Feature Importance"
   ]
  },
  {
   "cell_type": "code",
   "execution_count": 74,
   "metadata": {},
   "outputs": [
    {
     "data": {
      "text/html": [
       "<div>\n",
       "<style scoped>\n",
       "    .dataframe tbody tr th:only-of-type {\n",
       "        vertical-align: middle;\n",
       "    }\n",
       "\n",
       "    .dataframe tbody tr th {\n",
       "        vertical-align: top;\n",
       "    }\n",
       "\n",
       "    .dataframe thead th {\n",
       "        text-align: right;\n",
       "    }\n",
       "</style>\n",
       "<table border=\"1\" class=\"dataframe\">\n",
       "  <thead>\n",
       "    <tr style=\"text-align: right;\">\n",
       "      <th></th>\n",
       "      <th>Coefficients</th>\n",
       "    </tr>\n",
       "  </thead>\n",
       "  <tbody>\n",
       "    <tr>\n",
       "      <th>Mental Fatigue Score</th>\n",
       "      <td>95.47</td>\n",
       "    </tr>\n",
       "    <tr>\n",
       "      <th>Designation_4.0</th>\n",
       "      <td>0.38</td>\n",
       "    </tr>\n",
       "    <tr>\n",
       "      <th>Resource Allocation_7.0</th>\n",
       "      <td>0.37</td>\n",
       "    </tr>\n",
       "    <tr>\n",
       "      <th>WFH Setup Available_Yes</th>\n",
       "      <td>0.32</td>\n",
       "    </tr>\n",
       "    <tr>\n",
       "      <th>Resource Allocation_6.0</th>\n",
       "      <td>0.30</td>\n",
       "    </tr>\n",
       "    <tr>\n",
       "      <th>Resource Allocation_3.0</th>\n",
       "      <td>0.29</td>\n",
       "    </tr>\n",
       "    <tr>\n",
       "      <th>Resource Allocation_8.0</th>\n",
       "      <td>0.28</td>\n",
       "    </tr>\n",
       "    <tr>\n",
       "      <th>Resource Allocation_1.0</th>\n",
       "      <td>0.24</td>\n",
       "    </tr>\n",
       "    <tr>\n",
       "      <th>Resource Allocation_2.0</th>\n",
       "      <td>0.24</td>\n",
       "    </tr>\n",
       "    <tr>\n",
       "      <th>Resource Allocation_9.0</th>\n",
       "      <td>0.23</td>\n",
       "    </tr>\n",
       "    <tr>\n",
       "      <th>Resource Allocation_5.0</th>\n",
       "      <td>0.22</td>\n",
       "    </tr>\n",
       "    <tr>\n",
       "      <th>WFH Setup Available_No</th>\n",
       "      <td>0.21</td>\n",
       "    </tr>\n",
       "    <tr>\n",
       "      <th>Resource Allocation_4.0</th>\n",
       "      <td>0.20</td>\n",
       "    </tr>\n",
       "    <tr>\n",
       "      <th>Gender_Female</th>\n",
       "      <td>0.20</td>\n",
       "    </tr>\n",
       "    <tr>\n",
       "      <th>Gender_Male</th>\n",
       "      <td>0.20</td>\n",
       "    </tr>\n",
       "    <tr>\n",
       "      <th>Designation_3.0</th>\n",
       "      <td>0.19</td>\n",
       "    </tr>\n",
       "    <tr>\n",
       "      <th>Designation_2.0</th>\n",
       "      <td>0.18</td>\n",
       "    </tr>\n",
       "    <tr>\n",
       "      <th>Designation_1.0</th>\n",
       "      <td>0.17</td>\n",
       "    </tr>\n",
       "    <tr>\n",
       "      <th>Designation_5.0</th>\n",
       "      <td>0.16</td>\n",
       "    </tr>\n",
       "    <tr>\n",
       "      <th>Resource Allocation_10.0</th>\n",
       "      <td>0.08</td>\n",
       "    </tr>\n",
       "    <tr>\n",
       "      <th>Designation_0.0</th>\n",
       "      <td>0.05</td>\n",
       "    </tr>\n",
       "  </tbody>\n",
       "</table>\n",
       "</div>"
      ],
      "text/plain": [
       "                          Coefficients\n",
       "Mental Fatigue Score             95.47\n",
       "Designation_4.0                   0.38\n",
       "Resource Allocation_7.0           0.37\n",
       "WFH Setup Available_Yes           0.32\n",
       "Resource Allocation_6.0           0.30\n",
       "Resource Allocation_3.0           0.29\n",
       "Resource Allocation_8.0           0.28\n",
       "Resource Allocation_1.0           0.24\n",
       "Resource Allocation_2.0           0.24\n",
       "Resource Allocation_9.0           0.23\n",
       "Resource Allocation_5.0           0.22\n",
       "WFH Setup Available_No            0.21\n",
       "Resource Allocation_4.0           0.20\n",
       "Gender_Female                     0.20\n",
       "Gender_Male                       0.20\n",
       "Designation_3.0                   0.19\n",
       "Designation_2.0                   0.18\n",
       "Designation_1.0                   0.17\n",
       "Designation_5.0                   0.16\n",
       "Resource Allocation_10.0          0.08\n",
       "Designation_0.0                   0.05"
      ]
     },
     "execution_count": 74,
     "metadata": {},
     "output_type": "execute_result"
    }
   ],
   "source": [
    "# Using Random Forest\n",
    "ce=pd.DataFrame(clf_rf.feature_importances_, train_X.columns)\n",
    "ce.columns=['Coefficients']\n",
    "ce.sort_values('Coefficients',ascending=False,inplace=True)\n",
    "ce['Coefficients']=((ce['Coefficients'])*100).round(2)\n",
    "ce=ce.head(25)\n",
    "#ce.to_excel(writer,'Variable_imp',index=True)\n",
    "ce"
   ]
  },
  {
   "cell_type": "code",
   "execution_count": 75,
   "metadata": {},
   "outputs": [
    {
     "data": {
      "text/plain": [
       "<AxesSubplot:>"
      ]
     },
     "execution_count": 75,
     "metadata": {},
     "output_type": "execute_result"
    },
    {
     "data": {
      "image/png": "[encoded data removed]",
      "text/plain": [
       "<Figure size 432x288 with 1 Axes>"
      ]
     },
     "metadata": {
      "needs_background": "light"
     },
     "output_type": "display_data"
    }
   ],
   "source": [
    "ce=ce.head(12)\n",
    "ce.Coefficients.plot(kind='bar')"
   ]
  },
  {
   "cell_type": "markdown",
   "metadata": {},
   "source": [
    "#### Predict for the test file"
   ]
  },
  {
   "cell_type": "code",
   "execution_count": 76,
   "metadata": {},
   "outputs": [],
   "source": [
    "test_df = pd.read_csv(\"C:\\\\Data Science\\\\Competitions\\\\Burnout_Rate_Prediction\\\\dataset\\\\test.csv\")"
   ]
  },
  {
   "cell_type": "code",
   "execution_count": 77,
   "metadata": {},
   "outputs": [
    {
     "name": "stderr",
     "output_type": "stream",
     "text": [
      "The pandas.datetime class is deprecated and will be removed from pandas in a future version. Import from datetime instead.\n"
     ]
    },
    {
     "name": "stdout",
     "output_type": "stream",
     "text": [
      "Employment Duration     0.0\n",
      "Mental Fatigue Score    0.0\n",
      "Resource Allocation     0.0\n",
      "Designation             0.0\n",
      "WFH Setup Available     0.0\n",
      "Company Type            0.0\n",
      "Gender                  0.0\n",
      "Employee ID             0.0\n",
      "dtype: float64\n"
     ]
    },
    {
     "data": {
      "image/png": "[encoded data removed]",
      "text/plain": [
       "<Figure size 792x648 with 2 Axes>"
      ]
     },
     "metadata": {
      "needs_background": "light"
     },
     "output_type": "display_data"
    }
   ],
   "source": [
    "# Prepare \"test_df\" like the original dataframe\n",
    "\n",
    "# Convert to datetime column\n",
    "test_df[[\"Date of Joining\"]] = test_df[[\"Date of Joining\"]].apply(pd.to_datetime)\n",
    "\n",
    "# Subtract from today and create a new column 'Employment Duration'\n",
    "dt = pd.datetime.now().replace(hour=0, minute=0, second=0, microsecond=0)\n",
    "test_df['Employment Duration'] = dt - pd.to_datetime( test_df['Date of Joining'])\n",
    "\n",
    "test_df.drop('Date of Joining',axis=1,inplace=True)\n",
    "\n",
    "#Extract the number of days from timedelta64 object\n",
    "test_df['Employment Duration'] = test_df['Employment Duration'].astype('timedelta64[D]')\n",
    "\n",
    "# Employee ID is irrelevant data for linear regression, so dropping the variable.\n",
    "# test_df.drop('Employee ID',axis=1,inplace=True)\n",
    "\n",
    "# Convert into categorical variables\n",
    "\n",
    "test_df['Designation'] = test_df['Designation'].astype('category')\n",
    "test_df['Gender'] = test_df['Gender'].astype('category')\n",
    "test_df['Company Type'] = test_df['Company Type'].astype('category')\n",
    "test_df['WFH Setup Available'] = test_df['WFH Setup Available'].astype('category')\n",
    "test_df['Resource Allocation'] = test_df['Resource Allocation'].astype('category')\n",
    "\n",
    "test_df.columns[test_df.isnull().any()]\n",
    "missing(test_df)\n",
    "\n",
    "# Correlation Matrix\n",
    "\n",
    "cor = test_df.corr()\n",
    "cor\n",
    "# Set up the matplotlib figure\n",
    "f, ax = plt.subplots(figsize=(11, 9))\n",
    "sns.heatmap(cor)\n",
    "cor\n",
    "\n",
    "# Resource Allocation and Mental Fatigue Score are highly correlated, so we will drop one column\n",
    "# test_df.drop('Resource Allocation',axis=1,inplace=True)\n",
    "\n",
    "test_df.drop('Employment Duration',axis=1,inplace=True)\n",
    "\n",
    "# One Hot Encoding\n",
    "# Convert categorical variables to numerical\n",
    "\n",
    "test_df=pd.get_dummies(test_df, columns=[\"Gender\"])\n",
    "test_df=pd.get_dummies(test_df, columns=[\"Company Type\"])\n",
    "test_df=pd.get_dummies(test_df, columns=[\"WFH Setup Available\"])\n",
    "test_df=pd.get_dummies(test_df, columns=[\"Designation\"])\n",
    "test_df=pd.get_dummies(test_df, columns=[\"Resource Allocation\"])\n",
    "\n",
    "#test_df.drop('Designation_0.0',axis=1,inplace=True)\n",
    "#test_df.drop('Designation_4.0',axis=1,inplace=True)\n",
    "#test_df.drop('Designation_5.0',axis=1,inplace=True)\n",
    "\n",
    "# Dropping for beter accuracy, since company type has minimal correlation to burn rate\n",
    "test_df.drop('Company Type_Product',axis=1,inplace=True)\n",
    "test_df.drop('Company Type_Service',axis=1,inplace=True)"
   ]
  },
  {
   "cell_type": "code",
   "execution_count": 78,
   "metadata": {},
   "outputs": [
    {
     "data": {
      "text/plain": [
       "(12250, 22)"
      ]
     },
     "execution_count": 78,
     "metadata": {},
     "output_type": "execute_result"
    }
   ],
   "source": [
    "test_df.shape"
   ]
  },
  {
   "cell_type": "code",
   "execution_count": 79,
   "metadata": {},
   "outputs": [
    {
     "name": "stdout",
     "output_type": "stream",
     "text": [
      "<class 'pandas.core.frame.DataFrame'>\n",
      "RangeIndex: 12250 entries, 0 to 12249\n",
      "Data columns (total 22 columns):\n",
      " #   Column                    Non-Null Count  Dtype  \n",
      "---  ------                    --------------  -----  \n",
      " 0   Employee ID               12250 non-null  object \n",
      " 1   Mental Fatigue Score      12250 non-null  float64\n",
      " 2   Gender_Female             12250 non-null  uint8  \n",
      " 3   Gender_Male               12250 non-null  uint8  \n",
      " 4   WFH Setup Available_No    12250 non-null  uint8  \n",
      " 5   WFH Setup Available_Yes   12250 non-null  uint8  \n",
      " 6   Designation_0.0           12250 non-null  uint8  \n",
      " 7   Designation_1.0           12250 non-null  uint8  \n",
      " 8   Designation_2.0           12250 non-null  uint8  \n",
      " 9   Designation_3.0           12250 non-null  uint8  \n",
      " 10  Designation_4.0           12250 non-null  uint8  \n",
      " 11  Designation_5.0           12250 non-null  uint8  \n",
      " 12  Resource Allocation_1.0   12250 non-null  uint8  \n",
      " 13  Resource Allocation_2.0   12250 non-null  uint8  \n",
      " 14  Resource Allocation_3.0   12250 non-null  uint8  \n",
      " 15  Resource Allocation_4.0   12250 non-null  uint8  \n",
      " 16  Resource Allocation_5.0   12250 non-null  uint8  \n",
      " 17  Resource Allocation_6.0   12250 non-null  uint8  \n",
      " 18  Resource Allocation_7.0   12250 non-null  uint8  \n",
      " 19  Resource Allocation_8.0   12250 non-null  uint8  \n",
      " 20  Resource Allocation_9.0   12250 non-null  uint8  \n",
      " 21  Resource Allocation_10.0  12250 non-null  uint8  \n",
      "dtypes: float64(1), object(1), uint8(20)\n",
      "memory usage: 430.8+ KB\n"
     ]
    }
   ],
   "source": [
    "test_df.info()"
   ]
  },
  {
   "cell_type": "code",
   "execution_count": 80,
   "metadata": {},
   "outputs": [
    {
     "data": {
      "text/html": [
       "<div>\n",
       "<style scoped>\n",
       "    .dataframe tbody tr th:only-of-type {\n",
       "        vertical-align: middle;\n",
       "    }\n",
       "\n",
       "    .dataframe tbody tr th {\n",
       "        vertical-align: top;\n",
       "    }\n",
       "\n",
       "    .dataframe thead th {\n",
       "        text-align: right;\n",
       "    }\n",
       "</style>\n",
       "<table border=\"1\" class=\"dataframe\">\n",
       "  <thead>\n",
       "    <tr style=\"text-align: right;\">\n",
       "      <th></th>\n",
       "      <th>Mental Fatigue Score</th>\n",
       "      <th>Gender_Female</th>\n",
       "      <th>Gender_Male</th>\n",
       "      <th>WFH Setup Available_No</th>\n",
       "      <th>WFH Setup Available_Yes</th>\n",
       "      <th>Designation_0.0</th>\n",
       "      <th>Designation_1.0</th>\n",
       "      <th>Designation_2.0</th>\n",
       "      <th>Designation_3.0</th>\n",
       "      <th>Designation_4.0</th>\n",
       "      <th>...</th>\n",
       "      <th>Resource Allocation_1.0</th>\n",
       "      <th>Resource Allocation_2.0</th>\n",
       "      <th>Resource Allocation_3.0</th>\n",
       "      <th>Resource Allocation_4.0</th>\n",
       "      <th>Resource Allocation_5.0</th>\n",
       "      <th>Resource Allocation_6.0</th>\n",
       "      <th>Resource Allocation_7.0</th>\n",
       "      <th>Resource Allocation_8.0</th>\n",
       "      <th>Resource Allocation_9.0</th>\n",
       "      <th>Resource Allocation_10.0</th>\n",
       "    </tr>\n",
       "  </thead>\n",
       "  <tbody>\n",
       "    <tr>\n",
       "      <th>0</th>\n",
       "      <td>7.7</td>\n",
       "      <td>1</td>\n",
       "      <td>0</td>\n",
       "      <td>1</td>\n",
       "      <td>0</td>\n",
       "      <td>0</td>\n",
       "      <td>0</td>\n",
       "      <td>1</td>\n",
       "      <td>0</td>\n",
       "      <td>0</td>\n",
       "      <td>...</td>\n",
       "      <td>0</td>\n",
       "      <td>0</td>\n",
       "      <td>0</td>\n",
       "      <td>0</td>\n",
       "      <td>1</td>\n",
       "      <td>0</td>\n",
       "      <td>0</td>\n",
       "      <td>0</td>\n",
       "      <td>0</td>\n",
       "      <td>0</td>\n",
       "    </tr>\n",
       "    <tr>\n",
       "      <th>1</th>\n",
       "      <td>5.2</td>\n",
       "      <td>1</td>\n",
       "      <td>0</td>\n",
       "      <td>0</td>\n",
       "      <td>1</td>\n",
       "      <td>0</td>\n",
       "      <td>1</td>\n",
       "      <td>0</td>\n",
       "      <td>0</td>\n",
       "      <td>0</td>\n",
       "      <td>...</td>\n",
       "      <td>0</td>\n",
       "      <td>1</td>\n",
       "      <td>0</td>\n",
       "      <td>0</td>\n",
       "      <td>0</td>\n",
       "      <td>0</td>\n",
       "      <td>0</td>\n",
       "      <td>0</td>\n",
       "      <td>0</td>\n",
       "      <td>0</td>\n",
       "    </tr>\n",
       "    <tr>\n",
       "      <th>2</th>\n",
       "      <td>5.9</td>\n",
       "      <td>0</td>\n",
       "      <td>1</td>\n",
       "      <td>0</td>\n",
       "      <td>1</td>\n",
       "      <td>0</td>\n",
       "      <td>1</td>\n",
       "      <td>0</td>\n",
       "      <td>0</td>\n",
       "      <td>0</td>\n",
       "      <td>...</td>\n",
       "      <td>0</td>\n",
       "      <td>0</td>\n",
       "      <td>1</td>\n",
       "      <td>0</td>\n",
       "      <td>0</td>\n",
       "      <td>0</td>\n",
       "      <td>0</td>\n",
       "      <td>0</td>\n",
       "      <td>0</td>\n",
       "      <td>0</td>\n",
       "    </tr>\n",
       "    <tr>\n",
       "      <th>3</th>\n",
       "      <td>4.6</td>\n",
       "      <td>1</td>\n",
       "      <td>0</td>\n",
       "      <td>1</td>\n",
       "      <td>0</td>\n",
       "      <td>0</td>\n",
       "      <td>0</td>\n",
       "      <td>0</td>\n",
       "      <td>1</td>\n",
       "      <td>0</td>\n",
       "      <td>...</td>\n",
       "      <td>0</td>\n",
       "      <td>0</td>\n",
       "      <td>0</td>\n",
       "      <td>0</td>\n",
       "      <td>0</td>\n",
       "      <td>1</td>\n",
       "      <td>0</td>\n",
       "      <td>0</td>\n",
       "      <td>0</td>\n",
       "      <td>0</td>\n",
       "    </tr>\n",
       "    <tr>\n",
       "      <th>4</th>\n",
       "      <td>6.4</td>\n",
       "      <td>1</td>\n",
       "      <td>0</td>\n",
       "      <td>1</td>\n",
       "      <td>0</td>\n",
       "      <td>0</td>\n",
       "      <td>0</td>\n",
       "      <td>1</td>\n",
       "      <td>0</td>\n",
       "      <td>0</td>\n",
       "      <td>...</td>\n",
       "      <td>0</td>\n",
       "      <td>0</td>\n",
       "      <td>0</td>\n",
       "      <td>0</td>\n",
       "      <td>1</td>\n",
       "      <td>0</td>\n",
       "      <td>0</td>\n",
       "      <td>0</td>\n",
       "      <td>0</td>\n",
       "      <td>0</td>\n",
       "    </tr>\n",
       "    <tr>\n",
       "      <th>...</th>\n",
       "      <td>...</td>\n",
       "      <td>...</td>\n",
       "      <td>...</td>\n",
       "      <td>...</td>\n",
       "      <td>...</td>\n",
       "      <td>...</td>\n",
       "      <td>...</td>\n",
       "      <td>...</td>\n",
       "      <td>...</td>\n",
       "      <td>...</td>\n",
       "      <td>...</td>\n",
       "      <td>...</td>\n",
       "      <td>...</td>\n",
       "      <td>...</td>\n",
       "      <td>...</td>\n",
       "      <td>...</td>\n",
       "      <td>...</td>\n",
       "      <td>...</td>\n",
       "      <td>...</td>\n",
       "      <td>...</td>\n",
       "      <td>...</td>\n",
       "    </tr>\n",
       "    <tr>\n",
       "      <th>12245</th>\n",
       "      <td>6.1</td>\n",
       "      <td>1</td>\n",
       "      <td>0</td>\n",
       "      <td>0</td>\n",
       "      <td>1</td>\n",
       "      <td>0</td>\n",
       "      <td>1</td>\n",
       "      <td>0</td>\n",
       "      <td>0</td>\n",
       "      <td>0</td>\n",
       "      <td>...</td>\n",
       "      <td>0</td>\n",
       "      <td>1</td>\n",
       "      <td>0</td>\n",
       "      <td>0</td>\n",
       "      <td>0</td>\n",
       "      <td>0</td>\n",
       "      <td>0</td>\n",
       "      <td>0</td>\n",
       "      <td>0</td>\n",
       "      <td>0</td>\n",
       "    </tr>\n",
       "    <tr>\n",
       "      <th>12246</th>\n",
       "      <td>5.9</td>\n",
       "      <td>1</td>\n",
       "      <td>0</td>\n",
       "      <td>0</td>\n",
       "      <td>1</td>\n",
       "      <td>0</td>\n",
       "      <td>0</td>\n",
       "      <td>1</td>\n",
       "      <td>0</td>\n",
       "      <td>0</td>\n",
       "      <td>...</td>\n",
       "      <td>0</td>\n",
       "      <td>0</td>\n",
       "      <td>0</td>\n",
       "      <td>1</td>\n",
       "      <td>0</td>\n",
       "      <td>0</td>\n",
       "      <td>0</td>\n",
       "      <td>0</td>\n",
       "      <td>0</td>\n",
       "      <td>0</td>\n",
       "    </tr>\n",
       "    <tr>\n",
       "      <th>12247</th>\n",
       "      <td>9.6</td>\n",
       "      <td>0</td>\n",
       "      <td>1</td>\n",
       "      <td>1</td>\n",
       "      <td>0</td>\n",
       "      <td>0</td>\n",
       "      <td>0</td>\n",
       "      <td>0</td>\n",
       "      <td>0</td>\n",
       "      <td>1</td>\n",
       "      <td>...</td>\n",
       "      <td>0</td>\n",
       "      <td>0</td>\n",
       "      <td>0</td>\n",
       "      <td>0</td>\n",
       "      <td>0</td>\n",
       "      <td>0</td>\n",
       "      <td>1</td>\n",
       "      <td>0</td>\n",
       "      <td>0</td>\n",
       "      <td>0</td>\n",
       "    </tr>\n",
       "    <tr>\n",
       "      <th>12248</th>\n",
       "      <td>6.7</td>\n",
       "      <td>0</td>\n",
       "      <td>1</td>\n",
       "      <td>1</td>\n",
       "      <td>0</td>\n",
       "      <td>0</td>\n",
       "      <td>0</td>\n",
       "      <td>0</td>\n",
       "      <td>1</td>\n",
       "      <td>0</td>\n",
       "      <td>...</td>\n",
       "      <td>0</td>\n",
       "      <td>0</td>\n",
       "      <td>0</td>\n",
       "      <td>0</td>\n",
       "      <td>0</td>\n",
       "      <td>1</td>\n",
       "      <td>0</td>\n",
       "      <td>0</td>\n",
       "      <td>0</td>\n",
       "      <td>0</td>\n",
       "    </tr>\n",
       "    <tr>\n",
       "      <th>12249</th>\n",
       "      <td>2.0</td>\n",
       "      <td>1</td>\n",
       "      <td>0</td>\n",
       "      <td>1</td>\n",
       "      <td>0</td>\n",
       "      <td>0</td>\n",
       "      <td>0</td>\n",
       "      <td>1</td>\n",
       "      <td>0</td>\n",
       "      <td>0</td>\n",
       "      <td>...</td>\n",
       "      <td>0</td>\n",
       "      <td>1</td>\n",
       "      <td>0</td>\n",
       "      <td>0</td>\n",
       "      <td>0</td>\n",
       "      <td>0</td>\n",
       "      <td>0</td>\n",
       "      <td>0</td>\n",
       "      <td>0</td>\n",
       "      <td>0</td>\n",
       "    </tr>\n",
       "  </tbody>\n",
       "</table>\n",
       "<p>12250 rows × 21 columns</p>\n",
       "</div>"
      ],
      "text/plain": [
       "       Mental Fatigue Score  Gender_Female  Gender_Male  \\\n",
       "0                       7.7              1            0   \n",
       "1                       5.2              1            0   \n",
       "2                       5.9              0            1   \n",
       "3                       4.6              1            0   \n",
       "4                       6.4              1            0   \n",
       "...                     ...            ...          ...   \n",
       "12245                   6.1              1            0   \n",
       "12246                   5.9              1            0   \n",
       "12247                   9.6              0            1   \n",
       "12248                   6.7              0            1   \n",
       "12249                   2.0              1            0   \n",
       "\n",
       "       WFH Setup Available_No  WFH Setup Available_Yes  Designation_0.0  \\\n",
       "0                           1                        0                0   \n",
       "1                           0                        1                0   \n",
       "2                           0                        1                0   \n",
       "3                           1                        0                0   \n",
       "4                           1                        0                0   \n",
       "...                       ...                      ...              ...   \n",
       "12245                       0                        1                0   \n",
       "12246                       0                        1                0   \n",
       "12247                       1                        0                0   \n",
       "12248                       1                        0                0   \n",
       "12249                       1                        0                0   \n",
       "\n",
       "       Designation_1.0  Designation_2.0  Designation_3.0  Designation_4.0  \\\n",
       "0                    0                1                0                0   \n",
       "1                    1                0                0                0   \n",
       "2                    1                0                0                0   \n",
       "3                    0                0                1                0   \n",
       "4                    0                1                0                0   \n",
       "...                ...              ...              ...              ...   \n",
       "12245                1                0                0                0   \n",
       "12246                0                1                0                0   \n",
       "12247                0                0                0                1   \n",
       "12248                0                0                1                0   \n",
       "12249                0                1                0                0   \n",
       "\n",
       "       ...  Resource Allocation_1.0  Resource Allocation_2.0  \\\n",
       "0      ...                        0                        0   \n",
       "1      ...                        0                        1   \n",
       "2      ...                        0                        0   \n",
       "3      ...                        0                        0   \n",
       "4      ...                        0                        0   \n",
       "...    ...                      ...                      ...   \n",
       "12245  ...                        0                        1   \n",
       "12246  ...                        0                        0   \n",
       "12247  ...                        0                        0   \n",
       "12248  ...                        0                        0   \n",
       "12249  ...                        0                        1   \n",
       "\n",
       "       Resource Allocation_3.0  Resource Allocation_4.0  \\\n",
       "0                            0                        0   \n",
       "1                            0                        0   \n",
       "2                            1                        0   \n",
       "3                            0                        0   \n",
       "4                            0                        0   \n",
       "...                        ...                      ...   \n",
       "12245                        0                        0   \n",
       "12246                        0                        1   \n",
       "12247                        0                        0   \n",
       "12248                        0                        0   \n",
       "12249                        0                        0   \n",
       "\n",
       "       Resource Allocation_5.0  Resource Allocation_6.0  \\\n",
       "0                            1                        0   \n",
       "1                            0                        0   \n",
       "2                            0                        0   \n",
       "3                            0                        1   \n",
       "4                            1                        0   \n",
       "...                        ...                      ...   \n",
       "12245                        0                        0   \n",
       "12246                        0                        0   \n",
       "12247                        0                        0   \n",
       "12248                        0                        1   \n",
       "12249                        0                        0   \n",
       "\n",
       "       Resource Allocation_7.0  Resource Allocation_8.0  \\\n",
       "0                            0                        0   \n",
       "1                            0                        0   \n",
       "2                            0                        0   \n",
       "3                            0                        0   \n",
       "4                            0                        0   \n",
       "...                        ...                      ...   \n",
       "12245                        0                        0   \n",
       "12246                        0                        0   \n",
       "12247                        1                        0   \n",
       "12248                        0                        0   \n",
       "12249                        0                        0   \n",
       "\n",
       "       Resource Allocation_9.0  Resource Allocation_10.0  \n",
       "0                            0                         0  \n",
       "1                            0                         0  \n",
       "2                            0                         0  \n",
       "3                            0                         0  \n",
       "4                            0                         0  \n",
       "...                        ...                       ...  \n",
       "12245                        0                         0  \n",
       "12246                        0                         0  \n",
       "12247                        0                         0  \n",
       "12248                        0                         0  \n",
       "12249                        0                         0  \n",
       "\n",
       "[12250 rows x 21 columns]"
      ]
     },
     "execution_count": 80,
     "metadata": {},
     "output_type": "execute_result"
    }
   ],
   "source": [
    "test_df[test_df.columns[test_df.columns!='Employee ID'] ]"
   ]
  },
  {
   "cell_type": "code",
   "execution_count": 81,
   "metadata": {},
   "outputs": [],
   "source": [
    "# Reorder the columns in test_df as per test_X , otherwise it throws an error\n",
    "# Keep the Employee Id column in the test_df \n",
    "\n",
    "test_df = pd.concat([test_df['Employee ID'], test_df[test_X.columns]], axis=1)"
   ]
  },
  {
   "cell_type": "code",
   "execution_count": 82,
   "metadata": {},
   "outputs": [
    {
     "name": "stdout",
     "output_type": "stream",
     "text": [
      "[0.61191124 0.35900104 0.42885393 ... 0.8248215  0.5765572  0.12905547]\n"
     ]
    }
   ],
   "source": [
    "# Run predictions on test_df\n",
    "\n",
    "y_pred=model.predict(test_df[test_df.columns[test_df.columns!='Employee ID']]) \n",
    "print(y_pred) "
   ]
  },
  {
   "cell_type": "code",
   "execution_count": 83,
   "metadata": {},
   "outputs": [],
   "source": [
    "# Create a dataframe with 'Employee ID' and the predicted value\n",
    "# Give the column name as 'Burn Rate'\n",
    "\n",
    "columns = ['Burn Rate']\n",
    "y_pred = pd.DataFrame(y_pred,columns=columns)\n",
    "res = pd.concat([test_df['Employee ID'],y_pred], axis=1)"
   ]
  },
  {
   "cell_type": "code",
   "execution_count": 84,
   "metadata": {},
   "outputs": [
    {
     "data": {
      "text/html": [
       "<div>\n",
       "<style scoped>\n",
       "    .dataframe tbody tr th:only-of-type {\n",
       "        vertical-align: middle;\n",
       "    }\n",
       "\n",
       "    .dataframe tbody tr th {\n",
       "        vertical-align: top;\n",
       "    }\n",
       "\n",
       "    .dataframe thead th {\n",
       "        text-align: right;\n",
       "    }\n",
       "</style>\n",
       "<table border=\"1\" class=\"dataframe\">\n",
       "  <thead>\n",
       "    <tr style=\"text-align: right;\">\n",
       "      <th></th>\n",
       "      <th>Employee ID</th>\n",
       "      <th>Burn Rate</th>\n",
       "    </tr>\n",
       "  </thead>\n",
       "  <tbody>\n",
       "    <tr>\n",
       "      <th>0</th>\n",
       "      <td>fffe31003300390039003000</td>\n",
       "      <td>0.611911</td>\n",
       "    </tr>\n",
       "    <tr>\n",
       "      <th>1</th>\n",
       "      <td>fffe31003300310037003800</td>\n",
       "      <td>0.359001</td>\n",
       "    </tr>\n",
       "    <tr>\n",
       "      <th>2</th>\n",
       "      <td>fffe33003400380035003900</td>\n",
       "      <td>0.428854</td>\n",
       "    </tr>\n",
       "    <tr>\n",
       "      <th>3</th>\n",
       "      <td>fffe3100370039003200</td>\n",
       "      <td>0.375591</td>\n",
       "    </tr>\n",
       "    <tr>\n",
       "      <th>4</th>\n",
       "      <td>fffe32003600390036003700</td>\n",
       "      <td>0.534027</td>\n",
       "    </tr>\n",
       "  </tbody>\n",
       "</table>\n",
       "</div>"
      ],
      "text/plain": [
       "                Employee ID  Burn Rate\n",
       "0  fffe31003300390039003000   0.611911\n",
       "1  fffe31003300310037003800   0.359001\n",
       "2  fffe33003400380035003900   0.428854\n",
       "3      fffe3100370039003200   0.375591\n",
       "4  fffe32003600390036003700   0.534027"
      ]
     },
     "execution_count": 84,
     "metadata": {},
     "output_type": "execute_result"
    }
   ],
   "source": [
    "# Round the value to 2 decimal places\n",
    "# Not rounding off for better accuracy\n",
    "# res['Burn Rate'] = res['Burn Rate'].round(decimals=2)\n",
    "res.head(5)"
   ]
  },
  {
   "cell_type": "code",
   "execution_count": 85,
   "metadata": {},
   "outputs": [],
   "source": [
    "# Save the final predictions file\n",
    "res.to_csv('C:\\\\Data Science\\\\Competitions\\\\Burnout_Rate_Prediction\\\\dataset\\\\submission.csv', index=False)"
   ]
  }
 ],
 "metadata": {
  "kernelspec": {
   "display_name": "Python 3",
   "language": "python",
   "name": "python3"
  },
  "language_info": {
   "codemirror_mode": {
    "name": "ipython",
    "version": 3
   },
   "file_extension": ".py",
   "mimetype": "text/x-python",
   "name": "python",
   "nbconvert_exporter": "python",
   "pygments_lexer": "ipython3",
   "version": "3.6.12"
  }
 },
 "nbformat": 4,
 "nbformat_minor": 4
}
